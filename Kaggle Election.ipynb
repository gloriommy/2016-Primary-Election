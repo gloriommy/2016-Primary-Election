{
 "cells": [
  {
   "cell_type": "markdown",
   "metadata": {},
   "source": [
    "# Kaggle 2016 Primary Election (Democrat)\n"
   ]
  },
  {
   "cell_type": "markdown",
   "metadata": {},
   "source": [
    "### 1. Setting up"
   ]
  },
  {
   "cell_type": "markdown",
   "metadata": {},
   "source": [
    "Setting Working Directory:"
   ]
  },
  {
   "cell_type": "code",
   "execution_count": 1,
   "metadata": {
    "collapsed": true
   },
   "outputs": [],
   "source": [
    "setwd(\"/Users/Jimmy/Desktop/Signal Dataset/2016-us-election\")"
   ]
  },
  {
   "cell_type": "markdown",
   "metadata": {},
   "source": [
    "Loading the data:"
   ]
  },
  {
   "cell_type": "code",
   "execution_count": 2,
   "metadata": {
    "collapsed": true
   },
   "outputs": [],
   "source": [
    "dict = read.csv(\"county_facts_dictionary.csv\", stringsAsFactors = FALSE)\n",
    "county_facts = read.csv(\"county_facts.csv\", stringsAsFactors = FALSE)\n",
    "votes = read.csv(\"primary_results.csv\", stringsAsFactors = FALSE)\n"
   ]
  },
  {
   "cell_type": "markdown",
   "metadata": {},
   "source": [
    "Installing/Loading relevant libraries:"
   ]
  },
  {
   "cell_type": "code",
   "execution_count": 3,
   "metadata": {
    "collapsed": false
   },
   "outputs": [
    {
     "name": "stderr",
     "output_type": "stream",
     "text": [
      "dummies-1.5.6 provided by Decision Patterns\n",
      "\n",
      "\n",
      "Attaching package: ‘dplyr’\n",
      "\n",
      "The following objects are masked from ‘package:plyr’:\n",
      "\n",
      "    arrange, count, desc, failwith, id, mutate, rename, summarise,\n",
      "    summarize\n",
      "\n",
      "The following objects are masked from ‘package:stats’:\n",
      "\n",
      "    filter, lag\n",
      "\n",
      "The following objects are masked from ‘package:base’:\n",
      "\n",
      "    intersect, setdiff, setequal, union\n",
      "\n",
      "Loading required package: lattice\n",
      "Loading required package: ggplot2\n",
      "Loading required package: Matrix\n",
      "Loading required package: foreach\n",
      "Loaded glmnet 2.0-5\n",
      "\n",
      "Loading required package: survival\n",
      "\n",
      "Attaching package: ‘survival’\n",
      "\n",
      "The following object is masked from ‘package:caret’:\n",
      "\n",
      "    cluster\n",
      "\n",
      "Loading required package: splines\n",
      "Loading required package: parallel\n",
      "Loaded gbm 2.1.1\n",
      "\n",
      "Attaching package: ‘plotly’\n",
      "\n",
      "The following object is masked from ‘package:ggplot2’:\n",
      "\n",
      "    last_plot\n",
      "\n",
      "The following object is masked from ‘package:graphics’:\n",
      "\n",
      "    layout\n",
      "\n"
     ]
    }
   ],
   "source": [
    "install.packages('dummies', repos='http://cran.us.r-project.org')\n",
    "install.packages('corrplot', repos='http://cran.us.r-project.org')\n",
    "install.packages('e1071', repos='http://cran.us.r-project.org')\n",
    "install.packages('ranger', repos = 'http://cran.us.r-project.org')\n",
    "install.packages('gbm', repos = 'http://cran.us.r-project.org')\n",
    "install.packages('plotly',repos='http://cran.us.r-project.org' )\n",
    "library('dummies')\n",
    "library('plyr')\n",
    "library('dplyr')\n",
    "library('caret')\n",
    "library('corrplot')\n",
    "library('glmnet')\n",
    "library('e1071')\n",
    "library('ranger')\n",
    "library('gbm')\n",
    "library('ggplot2')\n",
    "library('plotly')"
   ]
  },
  {
   "cell_type": "markdown",
   "metadata": {},
   "source": [
    "Selecting rows that correspond to \"Democrat\" and \"Hillary Clinton\""
   ]
  },
  {
   "cell_type": "code",
   "execution_count": 4,
   "metadata": {
    "collapsed": false
   },
   "outputs": [],
   "source": [
    "votes = filter(votes, party == \"Democrat\", candidate == \"Hillary Clinton\")"
   ]
  },
  {
   "cell_type": "markdown",
   "metadata": {},
   "source": [
    "Joining votes and features (containing information by each county)"
   ]
  },
  {
   "cell_type": "code",
   "execution_count": 5,
   "metadata": {
    "collapsed": true
   },
   "outputs": [],
   "source": [
    "joined = merge(votes, county_facts, by = \"fips\")"
   ]
  },
  {
   "cell_type": "markdown",
   "metadata": {},
   "source": [
    "Leaving only the target (fraction of votes supporting Clinton) and features (excluding the state information) from the \"joined\" data frame"
   ]
  },
  {
   "cell_type": "code",
   "execution_count": 6,
   "metadata": {
    "collapsed": false
   },
   "outputs": [],
   "source": [
    "joined = joined[c(-1:-7, -9:-10)]\n",
    "joined[2:52] = scale(joined[2:52]) #Scaling features \n"
   ]
  },
  {
   "cell_type": "markdown",
   "metadata": {},
   "source": [
    "# Regressions"
   ]
  },
  {
   "cell_type": "markdown",
   "metadata": {},
   "source": [
    "*NOTE*: In all of the following regressions, I am using features ***without*** state information. It is possible to get significantly better predictive power with such information. However, to find out which of the ~50 features are important indicator of support for Clinton, I will exclude the state information. "
   ]
  },
  {
   "cell_type": "markdown",
   "metadata": {},
   "source": [
    "##### 1. Elastic Net"
   ]
  },
  {
   "cell_type": "markdown",
   "metadata": {},
   "source": [
    "Preparing to run elastic net regression using caret pacakge (10-fold cross validation)"
   ]
  },
  {
   "cell_type": "code",
   "execution_count": 7,
   "metadata": {
    "collapsed": true
   },
   "outputs": [],
   "source": [
    "caret_reg = function(x, y, method, grid, ...){\n",
    "  set.seed(1)\n",
    "  control = trainControl(method=\"repeatedcv\", repeats=1, number=10, verboseIter=TRUE)\n",
    "  train(x=x, y=y, method=method, tuneGrid=grid, \n",
    "        trControl=control, metric=\"RMSE\",\n",
    "        ...)\n",
    "}\n",
    "\n",
    "vote_features = select(joined, PST045214:POP060210)\n",
    "vote_target = select(joined, fraction_votes)\n",
    "vote_target = vote_target$fraction_votes # caret doesn't accept data frame as its target so I'm converting it into a vector\n",
    "\n",
    "grid_glmnet = expand.grid(alpha = 0.95959, lambda = 2.043006e-05) # Selecting values of alpha and lamba to search over"
   ]
  },
  {
   "cell_type": "markdown",
   "metadata": {},
   "source": [
    "Note: in the above cell, I am passing in the \"ideal\" values of alpha and lambda obtained from running elastic net regression over many different values of alpha and lambda. I decided to do so since searching over many hyperparameters may take significant amount of computational time. This will be so for the following models that I will be using."
   ]
  },
  {
   "cell_type": "markdown",
   "metadata": {},
   "source": [
    "Running elastic net regression:"
   ]
  },
  {
   "cell_type": "code",
   "execution_count": 10,
   "metadata": {
    "collapsed": false
   },
   "outputs": [
    {
     "name": "stdout",
     "output_type": "stream",
     "text": [
      "+ Fold01.Rep1: alpha=0.9596, lambda=2.043e-05 \n",
      "- Fold01.Rep1: alpha=0.9596, lambda=2.043e-05 \n",
      "+ Fold02.Rep1: alpha=0.9596, lambda=2.043e-05 \n",
      "- Fold02.Rep1: alpha=0.9596, lambda=2.043e-05 \n",
      "+ Fold03.Rep1: alpha=0.9596, lambda=2.043e-05 \n",
      "- Fold03.Rep1: alpha=0.9596, lambda=2.043e-05 \n",
      "+ Fold04.Rep1: alpha=0.9596, lambda=2.043e-05 \n",
      "- Fold04.Rep1: alpha=0.9596, lambda=2.043e-05 \n",
      "+ Fold05.Rep1: alpha=0.9596, lambda=2.043e-05 \n",
      "- Fold05.Rep1: alpha=0.9596, lambda=2.043e-05 \n",
      "+ Fold06.Rep1: alpha=0.9596, lambda=2.043e-05 \n",
      "- Fold06.Rep1: alpha=0.9596, lambda=2.043e-05 \n",
      "+ Fold07.Rep1: alpha=0.9596, lambda=2.043e-05 \n",
      "- Fold07.Rep1: alpha=0.9596, lambda=2.043e-05 \n",
      "+ Fold08.Rep1: alpha=0.9596, lambda=2.043e-05 \n",
      "- Fold08.Rep1: alpha=0.9596, lambda=2.043e-05 \n",
      "+ Fold09.Rep1: alpha=0.9596, lambda=2.043e-05 \n",
      "- Fold09.Rep1: alpha=0.9596, lambda=2.043e-05 \n",
      "+ Fold10.Rep1: alpha=0.9596, lambda=2.043e-05 \n",
      "- Fold10.Rep1: alpha=0.9596, lambda=2.043e-05 \n",
      "Aggregating results\n",
      "Fitting final model on full training set\n"
     ]
    }
   ],
   "source": [
    "fit_glmnet = caret_reg(scale(vote_features), vote_target, \"glmnet\", grid_glmnet)"
   ]
  },
  {
   "cell_type": "markdown",
   "metadata": {},
   "source": [
    "Examining the best set of hyperparameters (alpha and lambda) of the model, minimum RMSE, and maximum R-Squared value"
   ]
  },
  {
   "cell_type": "code",
   "execution_count": 11,
   "metadata": {
    "collapsed": false
   },
   "outputs": [
    {
     "data": {
      "text/html": [
       "<table>\n",
       "<thead><tr><th></th><th scope=col>alpha</th><th scope=col>lambda</th></tr></thead>\n",
       "<tbody>\n",
       "\t<tr><th scope=row>1</th><td>9.595900e-01</td><td>2.043006e-05</td></tr>\n",
       "</tbody>\n",
       "</table>\n"
      ],
      "text/latex": [
       "\\begin{tabular}{r|ll}\n",
       "  & alpha & lambda\\\\\n",
       "\\hline\n",
       "\t1 & 9.595900e-01 & 2.043006e-05\\\\\n",
       "\\end{tabular}\n"
      ],
      "text/plain": [
       "    alpha       lambda\n",
       "1 0.95959 2.043006e-05"
      ]
     },
     "metadata": {},
     "output_type": "display_data"
    },
    {
     "data": {
      "text/html": [
       "0.0996154631512211"
      ],
      "text/latex": [
       "0.0996154631512211"
      ],
      "text/markdown": [
       "0.0996154631512211"
      ],
      "text/plain": [
       "[1] 0.09961546"
      ]
     },
     "metadata": {},
     "output_type": "display_data"
    },
    {
     "data": {
      "text/html": [
       "0.614464827145338"
      ],
      "text/latex": [
       "0.614464827145338"
      ],
      "text/markdown": [
       "0.614464827145338"
      ],
      "text/plain": [
       "[1] 0.6144648"
      ]
     },
     "metadata": {},
     "output_type": "display_data"
    }
   ],
   "source": [
    "best_tune = fit_glmnet$bestTune\n",
    "best_tune # alpha = 0.95959 and lambda = ~0\n",
    "\n",
    "min_rmse = min(fit_glmnet$results$RMSE)\n",
    "min_rmse #0.099615\n",
    "\n",
    "glmnet_max.Rsquared = max(na.omit(fit_glmnet$results$Rsquared))\n",
    "glmnet_max.Rsquared #0.61446\n",
    "\n"
   ]
  },
  {
   "cell_type": "markdown",
   "metadata": {},
   "source": [
    "From the above result, we know that the current linear model can explain about 60% of the variance (0.61446 * 100) in the target variable and that it can, on average, predict fraction vote for Clinton with about 10% (0.099615 * 100) accuracy, given information about each county. "
   ]
  },
  {
   "cell_type": "markdown",
   "metadata": {},
   "source": [
    "Now, let's see how a non-linear model performs on the dataset."
   ]
  },
  {
   "cell_type": "markdown",
   "metadata": {},
   "source": [
    "##### 2. Random Forest"
   ]
  },
  {
   "cell_type": "code",
   "execution_count": 12,
   "metadata": {
    "collapsed": false
   },
   "outputs": [
    {
     "name": "stdout",
     "output_type": "stream",
     "text": [
      "+ Fold01.Rep1: mtry=25 \n",
      "- Fold01.Rep1: mtry=25 \n",
      "+ Fold02.Rep1: mtry=25 \n",
      "- Fold02.Rep1: mtry=25 \n",
      "+ Fold03.Rep1: mtry=25 \n",
      "- Fold03.Rep1: mtry=25 \n",
      "+ Fold04.Rep1: mtry=25 \n",
      "- Fold04.Rep1: mtry=25 \n",
      "+ Fold05.Rep1: mtry=25 \n",
      "- Fold05.Rep1: mtry=25 \n",
      "+ Fold06.Rep1: mtry=25 \n",
      "- Fold06.Rep1: mtry=25 \n",
      "+ Fold07.Rep1: mtry=25 \n",
      "- Fold07.Rep1: mtry=25 \n",
      "+ Fold08.Rep1: mtry=25 \n",
      "- Fold08.Rep1: mtry=25 \n",
      "+ Fold09.Rep1: mtry=25 \n",
      "- Fold09.Rep1: mtry=25 \n",
      "+ Fold10.Rep1: mtry=25 \n",
      "- Fold10.Rep1: mtry=25 \n",
      "Aggregating results\n",
      "Fitting final model on full training set\n"
     ]
    },
    {
     "data": {
      "text/html": [
       "0.0903218890370506"
      ],
      "text/latex": [
       "0.0903218890370506"
      ],
      "text/markdown": [
       "0.0903218890370506"
      ],
      "text/plain": [
       "[1] 0.09032189"
      ]
     },
     "metadata": {},
     "output_type": "display_data"
    },
    {
     "data": {
      "text/html": [
       "0.684715223844778"
      ],
      "text/latex": [
       "0.684715223844778"
      ],
      "text/markdown": [
       "0.684715223844778"
      ],
      "text/plain": [
       "[1] 0.6847152"
      ]
     },
     "metadata": {},
     "output_type": "display_data"
    },
    {
     "data": {
      "text/html": [
       "<table>\n",
       "<thead><tr><th></th><th scope=col>mtry</th></tr></thead>\n",
       "<tbody>\n",
       "\t<tr><th scope=row>1</th><td>25</td></tr>\n",
       "</tbody>\n",
       "</table>\n"
      ],
      "text/latex": [
       "\\begin{tabular}{r|l}\n",
       "  & mtry\\\\\n",
       "\\hline\n",
       "\t1 & 25\\\\\n",
       "\\end{tabular}\n"
      ],
      "text/plain": [
       "  mtry\n",
       "1   25"
      ]
     },
     "metadata": {},
     "output_type": "display_data"
    }
   ],
   "source": [
    "grid_rf = expand.grid(mtry=25) # here again, I initally searched over many values of mtry and chose mtry = 25.\n",
    "fit_rf = caret_reg(vote_features, vote_target, \"ranger\", grid_rf, importance=\"impurity\")\n",
    "min(fit_rf$results$RMSE) # 0.09032188\n",
    "max(fit_rf$results$Rsquared) #0.684715\n",
    "fit_rf$bestTune # mtry= 25"
   ]
  },
  {
   "cell_type": "markdown",
   "metadata": {},
   "source": [
    "From the result, we can see that the random forest model does perform better in that it yields lower RMSE and higher R-Squared values(RMSE:0.09032188 and R-Squared:0.684715) compared to those of the elastic net regression model (RMSE:0.09961546 and R-Squared: 0.6144648). Knowing that the non-linear model performs better than the linear model, we will proceed to run a gradient boosted trees model since a boosted tree model is known to generally perform better than a random forest model."
   ]
  },
  {
   "cell_type": "markdown",
   "metadata": {},
   "source": [
    "##### 3. Gradient Boosted Trees"
   ]
  },
  {
   "cell_type": "code",
   "execution_count": 8,
   "metadata": {
    "collapsed": false
   },
   "outputs": [
    {
     "name": "stdout",
     "output_type": "stream",
     "text": [
      "+ Fold01.Rep1: n.trees=1500, shrinkage=0.01, interaction.depth=40, n.minobsinnode=1 \n",
      "Iter   TrainDeviance   ValidDeviance   StepSize   Improve\n",
      "     1        0.0249             nan     0.0100    0.0003\n",
      "     2        0.0245             nan     0.0100    0.0003\n",
      "     3        0.0242             nan     0.0100    0.0003\n",
      "     4        0.0239             nan     0.0100    0.0003\n",
      "     5        0.0236             nan     0.0100    0.0003\n",
      "     6        0.0232             nan     0.0100    0.0003\n",
      "     7        0.0229             nan     0.0100    0.0003\n",
      "     8        0.0227             nan     0.0100    0.0002\n",
      "     9        0.0224             nan     0.0100    0.0003\n",
      "    10        0.0221             nan     0.0100    0.0002\n",
      "    20        0.0194             nan     0.0100    0.0002\n",
      "    40        0.0154             nan     0.0100    0.0001\n",
      "    60        0.0124             nan     0.0100    0.0001\n",
      "    80        0.0103             nan     0.0100    0.0001\n",
      "   100        0.0087             nan     0.0100    0.0001\n",
      "   120        0.0075             nan     0.0100    0.0000\n",
      "   140        0.0066             nan     0.0100    0.0000\n",
      "   160        0.0059             nan     0.0100    0.0000\n",
      "   180        0.0053             nan     0.0100    0.0000\n",
      "   200        0.0048             nan     0.0100    0.0000\n",
      "   220        0.0044             nan     0.0100    0.0000\n",
      "   240        0.0041             nan     0.0100    0.0000\n",
      "   260        0.0038             nan     0.0100    0.0000\n",
      "   280        0.0036             nan     0.0100    0.0000\n",
      "   300        0.0033             nan     0.0100    0.0000\n",
      "   320        0.0031             nan     0.0100   -0.0000\n",
      "   340        0.0029             nan     0.0100    0.0000\n",
      "   360        0.0028             nan     0.0100    0.0000\n",
      "   380        0.0026             nan     0.0100    0.0000\n",
      "   400        0.0025             nan     0.0100   -0.0000\n",
      "   420        0.0023             nan     0.0100   -0.0000\n",
      "   440        0.0022             nan     0.0100   -0.0000\n",
      "   460        0.0021             nan     0.0100   -0.0000\n",
      "   480        0.0020             nan     0.0100   -0.0000\n",
      "   500        0.0019             nan     0.0100   -0.0000\n",
      "   520        0.0018             nan     0.0100   -0.0000\n",
      "   540        0.0017             nan     0.0100   -0.0000\n",
      "   560        0.0016             nan     0.0100   -0.0000\n",
      "   580        0.0015             nan     0.0100   -0.0000\n",
      "   600        0.0015             nan     0.0100   -0.0000\n",
      "   620        0.0014             nan     0.0100   -0.0000\n",
      "   640        0.0013             nan     0.0100   -0.0000\n",
      "   660        0.0013             nan     0.0100   -0.0000\n",
      "   680        0.0012             nan     0.0100   -0.0000\n",
      "   700        0.0011             nan     0.0100   -0.0000\n",
      "   720        0.0011             nan     0.0100   -0.0000\n",
      "   740        0.0010             nan     0.0100   -0.0000\n",
      "   760        0.0010             nan     0.0100   -0.0000\n",
      "   780        0.0010             nan     0.0100   -0.0000\n",
      "   800        0.0009             nan     0.0100   -0.0000\n",
      "   820        0.0009             nan     0.0100   -0.0000\n",
      "   840        0.0008             nan     0.0100   -0.0000\n",
      "   860        0.0008             nan     0.0100   -0.0000\n",
      "   880        0.0008             nan     0.0100   -0.0000\n",
      "   900        0.0007             nan     0.0100   -0.0000\n",
      "   920        0.0007             nan     0.0100   -0.0000\n",
      "   940        0.0007             nan     0.0100   -0.0000\n",
      "   960        0.0006             nan     0.0100   -0.0000\n",
      "   980        0.0006             nan     0.0100   -0.0000\n",
      "  1000        0.0006             nan     0.0100   -0.0000\n",
      "  1020        0.0006             nan     0.0100   -0.0000\n",
      "  1040        0.0005             nan     0.0100   -0.0000\n",
      "  1060        0.0005             nan     0.0100   -0.0000\n",
      "  1080        0.0005             nan     0.0100   -0.0000\n",
      "  1100        0.0005             nan     0.0100   -0.0000\n",
      "  1120        0.0004             nan     0.0100   -0.0000\n",
      "  1140        0.0004             nan     0.0100   -0.0000\n",
      "  1160        0.0004             nan     0.0100   -0.0000\n",
      "  1180        0.0004             nan     0.0100   -0.0000\n",
      "  1200        0.0004             nan     0.0100   -0.0000\n",
      "  1220        0.0004             nan     0.0100   -0.0000\n",
      "  1240        0.0003             nan     0.0100   -0.0000\n",
      "  1260        0.0003             nan     0.0100   -0.0000\n",
      "  1280        0.0003             nan     0.0100   -0.0000\n",
      "  1300        0.0003             nan     0.0100   -0.0000\n",
      "  1320        0.0003             nan     0.0100   -0.0000\n",
      "  1340        0.0003             nan     0.0100   -0.0000\n",
      "  1360        0.0003             nan     0.0100   -0.0000\n",
      "  1380        0.0003             nan     0.0100   -0.0000\n",
      "  1400        0.0002             nan     0.0100   -0.0000\n",
      "  1420        0.0002             nan     0.0100   -0.0000\n",
      "  1440        0.0002             nan     0.0100   -0.0000\n",
      "  1460        0.0002             nan     0.0100   -0.0000\n",
      "  1480        0.0002             nan     0.0100   -0.0000\n",
      "  1500        0.0002             nan     0.0100   -0.0000\n",
      "\n",
      "- Fold01.Rep1: n.trees=1500, shrinkage=0.01, interaction.depth=40, n.minobsinnode=1 \n",
      "+ Fold02.Rep1: n.trees=1500, shrinkage=0.01, interaction.depth=40, n.minobsinnode=1 \n",
      "Iter   TrainDeviance   ValidDeviance   StepSize   Improve\n",
      "     1        0.0251             nan     0.0100    0.0003\n",
      "     2        0.0248             nan     0.0100    0.0003\n",
      "     3        0.0245             nan     0.0100    0.0003\n",
      "     4        0.0241             nan     0.0100    0.0003\n",
      "     5        0.0238             nan     0.0100    0.0003\n",
      "     6        0.0235             nan     0.0100    0.0003\n",
      "     7        0.0232             nan     0.0100    0.0003\n",
      "     8        0.0229             nan     0.0100    0.0003\n",
      "     9        0.0226             nan     0.0100    0.0003\n",
      "    10        0.0223             nan     0.0100    0.0003\n",
      "    20        0.0197             nan     0.0100    0.0002\n",
      "    40        0.0156             nan     0.0100    0.0001\n",
      "    60        0.0126             nan     0.0100    0.0001\n",
      "    80        0.0104             nan     0.0100    0.0001\n",
      "   100        0.0089             nan     0.0100    0.0000\n",
      "   120        0.0077             nan     0.0100    0.0000\n",
      "   140        0.0067             nan     0.0100    0.0000\n",
      "   160        0.0060             nan     0.0100    0.0000\n",
      "   180        0.0054             nan     0.0100    0.0000\n",
      "   200        0.0049             nan     0.0100    0.0000\n",
      "   220        0.0045             nan     0.0100    0.0000\n",
      "   240        0.0042             nan     0.0100    0.0000\n",
      "   260        0.0039             nan     0.0100    0.0000\n",
      "   280        0.0036             nan     0.0100    0.0000\n",
      "   300        0.0034             nan     0.0100   -0.0000\n",
      "   320        0.0032             nan     0.0100    0.0000\n",
      "   340        0.0030             nan     0.0100    0.0000\n",
      "   360        0.0028             nan     0.0100    0.0000\n",
      "   380        0.0026             nan     0.0100   -0.0000\n",
      "   400        0.0025             nan     0.0100    0.0000\n",
      "   420        0.0024             nan     0.0100   -0.0000\n",
      "   440        0.0022             nan     0.0100    0.0000\n",
      "   460        0.0021             nan     0.0100   -0.0000\n",
      "   480        0.0020             nan     0.0100   -0.0000\n",
      "   500        0.0019             nan     0.0100   -0.0000\n",
      "   520        0.0018             nan     0.0100    0.0000\n",
      "   540        0.0017             nan     0.0100   -0.0000\n",
      "   560        0.0016             nan     0.0100   -0.0000\n",
      "   580        0.0015             nan     0.0100   -0.0000\n",
      "   600        0.0015             nan     0.0100   -0.0000\n",
      "   620        0.0014             nan     0.0100   -0.0000\n",
      "   640        0.0013             nan     0.0100   -0.0000\n",
      "   660        0.0013             nan     0.0100    0.0000\n",
      "   680        0.0012             nan     0.0100   -0.0000\n",
      "   700        0.0012             nan     0.0100   -0.0000\n",
      "   720        0.0011             nan     0.0100   -0.0000\n",
      "   740        0.0010             nan     0.0100   -0.0000\n",
      "   760        0.0010             nan     0.0100   -0.0000\n",
      "   780        0.0010             nan     0.0100   -0.0000\n",
      "   800        0.0009             nan     0.0100   -0.0000\n",
      "   820        0.0009             nan     0.0100   -0.0000\n",
      "   840        0.0008             nan     0.0100   -0.0000\n",
      "   860        0.0008             nan     0.0100   -0.0000\n",
      "   880        0.0008             nan     0.0100   -0.0000\n",
      "   900        0.0007             nan     0.0100   -0.0000\n",
      "   920        0.0007             nan     0.0100   -0.0000\n",
      "   940        0.0007             nan     0.0100   -0.0000\n",
      "   960        0.0006             nan     0.0100   -0.0000\n",
      "   980        0.0006             nan     0.0100   -0.0000\n",
      "  1000        0.0006             nan     0.0100   -0.0000\n",
      "  1020        0.0006             nan     0.0100   -0.0000\n",
      "  1040        0.0005             nan     0.0100   -0.0000\n",
      "  1060        0.0005             nan     0.0100   -0.0000\n",
      "  1080        0.0005             nan     0.0100   -0.0000\n",
      "  1100        0.0005             nan     0.0100   -0.0000\n",
      "  1120        0.0004             nan     0.0100   -0.0000\n",
      "  1140        0.0004             nan     0.0100   -0.0000\n",
      "  1160        0.0004             nan     0.0100   -0.0000\n",
      "  1180        0.0004             nan     0.0100   -0.0000\n",
      "  1200        0.0004             nan     0.0100   -0.0000\n",
      "  1220        0.0004             nan     0.0100   -0.0000\n",
      "  1240        0.0003             nan     0.0100   -0.0000\n",
      "  1260        0.0003             nan     0.0100   -0.0000\n",
      "  1280        0.0003             nan     0.0100   -0.0000\n",
      "  1300        0.0003             nan     0.0100   -0.0000\n",
      "  1320        0.0003             nan     0.0100   -0.0000\n",
      "  1340        0.0003             nan     0.0100   -0.0000\n",
      "  1360        0.0003             nan     0.0100   -0.0000\n",
      "  1380        0.0003             nan     0.0100   -0.0000\n",
      "  1400        0.0002             nan     0.0100   -0.0000\n",
      "  1420        0.0002             nan     0.0100   -0.0000\n",
      "  1440        0.0002             nan     0.0100   -0.0000\n",
      "  1460        0.0002             nan     0.0100   -0.0000\n",
      "  1480        0.0002             nan     0.0100   -0.0000\n",
      "  1500        0.0002             nan     0.0100   -0.0000\n",
      "\n",
      "- Fold02.Rep1: n.trees=1500, shrinkage=0.01, interaction.depth=40, n.minobsinnode=1 \n",
      "+ Fold03.Rep1: n.trees=1500, shrinkage=0.01, interaction.depth=40, n.minobsinnode=1 \n",
      "Iter   TrainDeviance   ValidDeviance   StepSize   Improve\n",
      "     1        0.0253             nan     0.0100    0.0003\n",
      "     2        0.0249             nan     0.0100    0.0003\n",
      "     3        0.0246             nan     0.0100    0.0003\n",
      "     4        0.0242             nan     0.0100    0.0003\n",
      "     5        0.0239             nan     0.0100    0.0003\n",
      "     6        0.0236             nan     0.0100    0.0003\n",
      "     7        0.0233             nan     0.0100    0.0003\n",
      "     8        0.0230             nan     0.0100    0.0003\n",
      "     9        0.0227             nan     0.0100    0.0003\n",
      "    10        0.0224             nan     0.0100    0.0003\n",
      "    20        0.0197             nan     0.0100    0.0002\n",
      "    40        0.0155             nan     0.0100    0.0002\n",
      "    60        0.0125             nan     0.0100    0.0001\n",
      "    80        0.0104             nan     0.0100    0.0001\n",
      "   100        0.0088             nan     0.0100    0.0000\n",
      "   120        0.0076             nan     0.0100    0.0000\n",
      "   140        0.0066             nan     0.0100    0.0000\n",
      "   160        0.0059             nan     0.0100    0.0000\n",
      "   180        0.0053             nan     0.0100    0.0000\n",
      "   200        0.0049             nan     0.0100    0.0000\n",
      "   220        0.0045             nan     0.0100    0.0000\n",
      "   240        0.0041             nan     0.0100    0.0000\n",
      "   260        0.0038             nan     0.0100   -0.0000\n",
      "   280        0.0036             nan     0.0100    0.0000\n",
      "   300        0.0033             nan     0.0100    0.0000\n",
      "   320        0.0031             nan     0.0100    0.0000\n",
      "   340        0.0029             nan     0.0100    0.0000\n",
      "   360        0.0028             nan     0.0100    0.0000\n",
      "   380        0.0026             nan     0.0100   -0.0000\n",
      "   400        0.0025             nan     0.0100   -0.0000\n",
      "   420        0.0023             nan     0.0100   -0.0000\n",
      "   440        0.0022             nan     0.0100   -0.0000\n",
      "   460        0.0021             nan     0.0100    0.0000\n",
      "   480        0.0020             nan     0.0100    0.0000\n",
      "   500        0.0019             nan     0.0100   -0.0000\n",
      "   520        0.0018             nan     0.0100   -0.0000\n",
      "   540        0.0017             nan     0.0100   -0.0000\n",
      "   560        0.0016             nan     0.0100   -0.0000\n",
      "   580        0.0015             nan     0.0100   -0.0000\n",
      "   600        0.0015             nan     0.0100   -0.0000\n",
      "   620        0.0014             nan     0.0100   -0.0000\n",
      "   640        0.0013             nan     0.0100   -0.0000\n",
      "   660        0.0013             nan     0.0100   -0.0000\n",
      "   680        0.0012             nan     0.0100   -0.0000\n",
      "   700        0.0012             nan     0.0100   -0.0000\n",
      "   720        0.0011             nan     0.0100   -0.0000\n",
      "   740        0.0010             nan     0.0100   -0.0000\n",
      "   760        0.0010             nan     0.0100   -0.0000\n",
      "   780        0.0010             nan     0.0100   -0.0000\n",
      "   800        0.0009             nan     0.0100   -0.0000\n",
      "   820        0.0009             nan     0.0100   -0.0000\n",
      "   840        0.0008             nan     0.0100   -0.0000\n",
      "   860        0.0008             nan     0.0100   -0.0000\n",
      "   880        0.0008             nan     0.0100   -0.0000\n",
      "   900        0.0007             nan     0.0100   -0.0000\n",
      "   920        0.0007             nan     0.0100   -0.0000\n",
      "   940        0.0007             nan     0.0100   -0.0000\n",
      "   960        0.0006             nan     0.0100   -0.0000\n",
      "   980        0.0006             nan     0.0100   -0.0000\n",
      "  1000        0.0006             nan     0.0100   -0.0000\n",
      "  1020        0.0006             nan     0.0100   -0.0000\n",
      "  1040        0.0005             nan     0.0100   -0.0000\n",
      "  1060        0.0005             nan     0.0100   -0.0000\n",
      "  1080        0.0005             nan     0.0100   -0.0000\n",
      "  1100        0.0005             nan     0.0100   -0.0000\n",
      "  1120        0.0004             nan     0.0100   -0.0000\n",
      "  1140        0.0004             nan     0.0100   -0.0000\n",
      "  1160        0.0004             nan     0.0100    0.0000\n",
      "  1180        0.0004             nan     0.0100   -0.0000\n",
      "  1200        0.0004             nan     0.0100   -0.0000\n",
      "  1220        0.0004             nan     0.0100   -0.0000\n",
      "  1240        0.0003             nan     0.0100   -0.0000\n",
      "  1260        0.0003             nan     0.0100   -0.0000\n",
      "  1280        0.0003             nan     0.0100   -0.0000\n",
      "  1300        0.0003             nan     0.0100   -0.0000\n",
      "  1320        0.0003             nan     0.0100   -0.0000\n",
      "  1340        0.0003             nan     0.0100   -0.0000\n",
      "  1360        0.0003             nan     0.0100   -0.0000\n",
      "  1380        0.0003             nan     0.0100   -0.0000\n",
      "  1400        0.0002             nan     0.0100   -0.0000\n",
      "  1420        0.0002             nan     0.0100   -0.0000\n",
      "  1440        0.0002             nan     0.0100    0.0000\n",
      "  1460        0.0002             nan     0.0100   -0.0000\n",
      "  1480        0.0002             nan     0.0100   -0.0000\n",
      "  1500        0.0002             nan     0.0100   -0.0000\n",
      "\n",
      "- Fold03.Rep1: n.trees=1500, shrinkage=0.01, interaction.depth=40, n.minobsinnode=1 \n",
      "+ Fold04.Rep1: n.trees=1500, shrinkage=0.01, interaction.depth=40, n.minobsinnode=1 \n",
      "Iter   TrainDeviance   ValidDeviance   StepSize   Improve\n",
      "     1        0.0252             nan     0.0100    0.0003\n",
      "     2        0.0249             nan     0.0100    0.0003\n",
      "     3        0.0245             nan     0.0100    0.0003\n",
      "     4        0.0242             nan     0.0100    0.0003\n",
      "     5        0.0239             nan     0.0100    0.0003\n",
      "     6        0.0235             nan     0.0100    0.0003\n",
      "     7        0.0232             nan     0.0100    0.0003\n",
      "     8        0.0229             nan     0.0100    0.0002\n",
      "     9        0.0226             nan     0.0100    0.0003\n",
      "    10        0.0224             nan     0.0100    0.0003\n",
      "    20        0.0197             nan     0.0100    0.0002\n",
      "    40        0.0155             nan     0.0100    0.0001\n",
      "    60        0.0125             nan     0.0100    0.0001\n",
      "    80        0.0103             nan     0.0100    0.0001\n",
      "   100        0.0087             nan     0.0100    0.0000\n",
      "   120        0.0075             nan     0.0100    0.0000\n",
      "   140        0.0066             nan     0.0100    0.0000\n",
      "   160        0.0059             nan     0.0100    0.0000\n",
      "   180        0.0053             nan     0.0100    0.0000\n",
      "   200        0.0048             nan     0.0100    0.0000\n",
      "   220        0.0044             nan     0.0100    0.0000\n",
      "   240        0.0041             nan     0.0100    0.0000\n",
      "   260        0.0038             nan     0.0100    0.0000\n",
      "   280        0.0036             nan     0.0100    0.0000\n",
      "   300        0.0033             nan     0.0100    0.0000\n",
      "   320        0.0031             nan     0.0100    0.0000\n",
      "   340        0.0029             nan     0.0100   -0.0000\n",
      "   360        0.0028             nan     0.0100   -0.0000\n",
      "   380        0.0026             nan     0.0100   -0.0000\n",
      "   400        0.0025             nan     0.0100    0.0000\n",
      "   420        0.0023             nan     0.0100   -0.0000\n",
      "   440        0.0022             nan     0.0100   -0.0000\n",
      "   460        0.0021             nan     0.0100    0.0000\n",
      "   480        0.0020             nan     0.0100    0.0000\n",
      "   500        0.0019             nan     0.0100   -0.0000\n",
      "   520        0.0018             nan     0.0100   -0.0000\n",
      "   540        0.0017             nan     0.0100    0.0000\n",
      "   560        0.0016             nan     0.0100   -0.0000\n",
      "   580        0.0015             nan     0.0100   -0.0000\n",
      "   600        0.0014             nan     0.0100   -0.0000\n",
      "   620        0.0014             nan     0.0100   -0.0000\n",
      "   640        0.0013             nan     0.0100   -0.0000\n",
      "   660        0.0012             nan     0.0100   -0.0000\n",
      "   680        0.0012             nan     0.0100   -0.0000\n",
      "   700        0.0011             nan     0.0100   -0.0000\n",
      "   720        0.0011             nan     0.0100   -0.0000\n",
      "   740        0.0010             nan     0.0100   -0.0000\n",
      "   760        0.0010             nan     0.0100   -0.0000\n",
      "   780        0.0009             nan     0.0100    0.0000\n",
      "   800        0.0009             nan     0.0100   -0.0000\n",
      "   820        0.0009             nan     0.0100   -0.0000\n",
      "   840        0.0008             nan     0.0100   -0.0000\n",
      "   860        0.0008             nan     0.0100   -0.0000\n",
      "   880        0.0008             nan     0.0100    0.0000\n",
      "   900        0.0007             nan     0.0100   -0.0000\n",
      "   920        0.0007             nan     0.0100   -0.0000\n",
      "   940        0.0007             nan     0.0100    0.0000\n",
      "   960        0.0006             nan     0.0100   -0.0000\n",
      "   980        0.0006             nan     0.0100   -0.0000\n",
      "  1000        0.0006             nan     0.0100   -0.0000\n",
      "  1020        0.0005             nan     0.0100   -0.0000\n",
      "  1040        0.0005             nan     0.0100   -0.0000\n",
      "  1060        0.0005             nan     0.0100   -0.0000\n",
      "  1080        0.0005             nan     0.0100   -0.0000\n",
      "  1100        0.0005             nan     0.0100   -0.0000\n",
      "  1120        0.0004             nan     0.0100   -0.0000\n",
      "  1140        0.0004             nan     0.0100   -0.0000\n",
      "  1160        0.0004             nan     0.0100   -0.0000\n",
      "  1180        0.0004             nan     0.0100   -0.0000\n",
      "  1200        0.0004             nan     0.0100   -0.0000\n",
      "  1220        0.0004             nan     0.0100   -0.0000\n",
      "  1240        0.0003             nan     0.0100   -0.0000\n",
      "  1260        0.0003             nan     0.0100   -0.0000\n",
      "  1280        0.0003             nan     0.0100   -0.0000\n",
      "  1300        0.0003             nan     0.0100    0.0000\n",
      "  1320        0.0003             nan     0.0100   -0.0000\n",
      "  1340        0.0003             nan     0.0100   -0.0000\n",
      "  1360        0.0003             nan     0.0100   -0.0000\n",
      "  1380        0.0003             nan     0.0100   -0.0000\n",
      "  1400        0.0002             nan     0.0100   -0.0000\n",
      "  1420        0.0002             nan     0.0100   -0.0000\n",
      "  1440        0.0002             nan     0.0100   -0.0000\n",
      "  1460        0.0002             nan     0.0100   -0.0000\n",
      "  1480        0.0002             nan     0.0100   -0.0000\n",
      "  1500        0.0002             nan     0.0100   -0.0000\n",
      "\n",
      "- Fold04.Rep1: n.trees=1500, shrinkage=0.01, interaction.depth=40, n.minobsinnode=1 \n",
      "+ Fold05.Rep1: n.trees=1500, shrinkage=0.01, interaction.depth=40, n.minobsinnode=1 \n",
      "Iter   TrainDeviance   ValidDeviance   StepSize   Improve\n",
      "     1        0.0252             nan     0.0100    0.0003\n",
      "     2        0.0248             nan     0.0100    0.0003\n",
      "     3        0.0245             nan     0.0100    0.0003\n",
      "     4        0.0242             nan     0.0100    0.0003\n",
      "     5        0.0239             nan     0.0100    0.0003\n",
      "     6        0.0236             nan     0.0100    0.0003\n",
      "     7        0.0232             nan     0.0100    0.0003\n",
      "     8        0.0229             nan     0.0100    0.0003\n",
      "     9        0.0226             nan     0.0100    0.0003\n",
      "    10        0.0224             nan     0.0100    0.0002\n",
      "    20        0.0197             nan     0.0100    0.0002\n",
      "    40        0.0155             nan     0.0100    0.0001\n",
      "    60        0.0125             nan     0.0100    0.0001\n",
      "    80        0.0103             nan     0.0100    0.0001\n",
      "   100        0.0087             nan     0.0100    0.0000\n",
      "   120        0.0075             nan     0.0100    0.0000\n",
      "   140        0.0066             nan     0.0100    0.0000\n",
      "   160        0.0059             nan     0.0100    0.0000\n",
      "   180        0.0053             nan     0.0100    0.0000\n",
      "   200        0.0048             nan     0.0100    0.0000\n",
      "   220        0.0044             nan     0.0100    0.0000\n",
      "   240        0.0041             nan     0.0100    0.0000\n",
      "   260        0.0038             nan     0.0100    0.0000\n",
      "   280        0.0035             nan     0.0100    0.0000\n",
      "   300        0.0033             nan     0.0100    0.0000\n",
      "   320        0.0031             nan     0.0100    0.0000\n",
      "   340        0.0029             nan     0.0100    0.0000\n",
      "   360        0.0027             nan     0.0100   -0.0000\n",
      "   380        0.0026             nan     0.0100    0.0000\n",
      "   400        0.0024             nan     0.0100    0.0000\n",
      "   420        0.0023             nan     0.0100    0.0000\n",
      "   440        0.0022             nan     0.0100    0.0000\n",
      "   460        0.0021             nan     0.0100    0.0000\n",
      "   480        0.0020             nan     0.0100   -0.0000\n",
      "   500        0.0019             nan     0.0100   -0.0000\n",
      "   520        0.0018             nan     0.0100   -0.0000\n",
      "   540        0.0017             nan     0.0100   -0.0000\n",
      "   560        0.0016             nan     0.0100   -0.0000\n",
      "   580        0.0015             nan     0.0100   -0.0000\n",
      "   600        0.0014             nan     0.0100   -0.0000\n",
      "   620        0.0014             nan     0.0100   -0.0000\n",
      "   640        0.0013             nan     0.0100   -0.0000\n",
      "   660        0.0012             nan     0.0100   -0.0000\n",
      "   680        0.0012             nan     0.0100    0.0000\n",
      "   700        0.0011             nan     0.0100   -0.0000\n",
      "   720        0.0011             nan     0.0100   -0.0000\n",
      "   740        0.0010             nan     0.0100   -0.0000\n",
      "   760        0.0010             nan     0.0100   -0.0000\n",
      "   780        0.0009             nan     0.0100   -0.0000\n",
      "   800        0.0009             nan     0.0100   -0.0000\n",
      "   820        0.0009             nan     0.0100   -0.0000\n",
      "   840        0.0008             nan     0.0100   -0.0000\n",
      "   860        0.0008             nan     0.0100   -0.0000\n",
      "   880        0.0007             nan     0.0100   -0.0000\n",
      "   900        0.0007             nan     0.0100   -0.0000\n",
      "   920        0.0007             nan     0.0100   -0.0000\n",
      "   940        0.0006             nan     0.0100   -0.0000\n",
      "   960        0.0006             nan     0.0100   -0.0000\n",
      "   980        0.0006             nan     0.0100   -0.0000\n",
      "  1000        0.0006             nan     0.0100   -0.0000\n",
      "  1020        0.0005             nan     0.0100   -0.0000\n",
      "  1040        0.0005             nan     0.0100    0.0000\n",
      "  1060        0.0005             nan     0.0100   -0.0000\n",
      "  1080        0.0005             nan     0.0100   -0.0000\n",
      "  1100        0.0005             nan     0.0100   -0.0000\n",
      "  1120        0.0004             nan     0.0100   -0.0000\n",
      "  1140        0.0004             nan     0.0100   -0.0000\n",
      "  1160        0.0004             nan     0.0100   -0.0000\n",
      "  1180        0.0004             nan     0.0100   -0.0000\n",
      "  1200        0.0004             nan     0.0100   -0.0000\n",
      "  1220        0.0004             nan     0.0100   -0.0000\n",
      "  1240        0.0003             nan     0.0100   -0.0000\n",
      "  1260        0.0003             nan     0.0100   -0.0000\n",
      "  1280        0.0003             nan     0.0100   -0.0000\n",
      "  1300        0.0003             nan     0.0100   -0.0000\n",
      "  1320        0.0003             nan     0.0100   -0.0000\n",
      "  1340        0.0003             nan     0.0100   -0.0000\n",
      "  1360        0.0003             nan     0.0100   -0.0000\n",
      "  1380        0.0003             nan     0.0100   -0.0000\n",
      "  1400        0.0002             nan     0.0100   -0.0000\n",
      "  1420        0.0002             nan     0.0100   -0.0000\n",
      "  1440        0.0002             nan     0.0100   -0.0000\n",
      "  1460        0.0002             nan     0.0100   -0.0000\n",
      "  1480        0.0002             nan     0.0100   -0.0000\n",
      "  1500        0.0002             nan     0.0100   -0.0000\n",
      "\n",
      "- Fold05.Rep1: n.trees=1500, shrinkage=0.01, interaction.depth=40, n.minobsinnode=1 \n",
      "+ Fold06.Rep1: n.trees=1500, shrinkage=0.01, interaction.depth=40, n.minobsinnode=1 \n",
      "Iter   TrainDeviance   ValidDeviance   StepSize   Improve\n",
      "     1        0.0252             nan     0.0100    0.0003\n",
      "     2        0.0249             nan     0.0100    0.0003\n",
      "     3        0.0245             nan     0.0100    0.0003\n",
      "     4        0.0242             nan     0.0100    0.0003\n",
      "     5        0.0239             nan     0.0100    0.0003\n",
      "     6        0.0236             nan     0.0100    0.0003\n",
      "     7        0.0233             nan     0.0100    0.0003\n",
      "     8        0.0229             nan     0.0100    0.0003\n",
      "     9        0.0226             nan     0.0100    0.0003\n",
      "    10        0.0223             nan     0.0100    0.0003\n",
      "    20        0.0197             nan     0.0100    0.0002\n",
      "    40        0.0155             nan     0.0100    0.0001\n",
      "    60        0.0125             nan     0.0100    0.0001\n",
      "    80        0.0103             nan     0.0100    0.0001\n",
      "   100        0.0088             nan     0.0100    0.0001\n",
      "   120        0.0076             nan     0.0100    0.0000\n",
      "   140        0.0067             nan     0.0100    0.0000\n",
      "   160        0.0059             nan     0.0100    0.0000\n",
      "   180        0.0053             nan     0.0100    0.0000\n",
      "   200        0.0049             nan     0.0100    0.0000\n",
      "   220        0.0045             nan     0.0100    0.0000\n",
      "   240        0.0041             nan     0.0100    0.0000\n",
      "   260        0.0038             nan     0.0100    0.0000\n",
      "   280        0.0036             nan     0.0100    0.0000\n",
      "   300        0.0033             nan     0.0100    0.0000\n",
      "   320        0.0031             nan     0.0100    0.0000\n",
      "   340        0.0029             nan     0.0100    0.0000\n",
      "   360        0.0028             nan     0.0100    0.0000\n",
      "   380        0.0026             nan     0.0100   -0.0000\n",
      "   400        0.0025             nan     0.0100    0.0000\n",
      "   420        0.0023             nan     0.0100   -0.0000\n",
      "   440        0.0022             nan     0.0100   -0.0000\n",
      "   460        0.0021             nan     0.0100   -0.0000\n",
      "   480        0.0020             nan     0.0100   -0.0000\n",
      "   500        0.0019             nan     0.0100   -0.0000\n",
      "   520        0.0018             nan     0.0100   -0.0000\n",
      "   540        0.0017             nan     0.0100   -0.0000\n",
      "   560        0.0016             nan     0.0100   -0.0000\n",
      "   580        0.0015             nan     0.0100   -0.0000\n",
      "   600        0.0015             nan     0.0100   -0.0000\n",
      "   620        0.0014             nan     0.0100   -0.0000\n",
      "   640        0.0013             nan     0.0100   -0.0000\n",
      "   660        0.0013             nan     0.0100   -0.0000\n",
      "   680        0.0012             nan     0.0100   -0.0000\n",
      "   700        0.0011             nan     0.0100   -0.0000\n",
      "   720        0.0011             nan     0.0100   -0.0000\n",
      "   740        0.0010             nan     0.0100   -0.0000\n",
      "   760        0.0010             nan     0.0100   -0.0000\n",
      "   780        0.0010             nan     0.0100   -0.0000\n",
      "   800        0.0009             nan     0.0100   -0.0000\n",
      "   820        0.0009             nan     0.0100   -0.0000\n",
      "   840        0.0008             nan     0.0100   -0.0000\n",
      "   860        0.0008             nan     0.0100   -0.0000\n",
      "   880        0.0008             nan     0.0100   -0.0000\n",
      "   900        0.0007             nan     0.0100   -0.0000\n",
      "   920        0.0007             nan     0.0100   -0.0000\n",
      "   940        0.0007             nan     0.0100   -0.0000\n",
      "   960        0.0006             nan     0.0100   -0.0000\n",
      "   980        0.0006             nan     0.0100   -0.0000\n",
      "  1000        0.0006             nan     0.0100   -0.0000\n",
      "  1020        0.0006             nan     0.0100   -0.0000\n",
      "  1040        0.0005             nan     0.0100   -0.0000\n",
      "  1060        0.0005             nan     0.0100   -0.0000\n",
      "  1080        0.0005             nan     0.0100   -0.0000\n",
      "  1100        0.0005             nan     0.0100   -0.0000\n",
      "  1120        0.0004             nan     0.0100   -0.0000\n",
      "  1140        0.0004             nan     0.0100   -0.0000\n",
      "  1160        0.0004             nan     0.0100    0.0000\n",
      "  1180        0.0004             nan     0.0100   -0.0000\n",
      "  1200        0.0004             nan     0.0100   -0.0000\n",
      "  1220        0.0004             nan     0.0100   -0.0000\n",
      "  1240        0.0003             nan     0.0100   -0.0000\n",
      "  1260        0.0003             nan     0.0100   -0.0000\n",
      "  1280        0.0003             nan     0.0100   -0.0000\n",
      "  1300        0.0003             nan     0.0100   -0.0000\n",
      "  1320        0.0003             nan     0.0100   -0.0000\n",
      "  1340        0.0003             nan     0.0100   -0.0000\n",
      "  1360        0.0003             nan     0.0100   -0.0000\n",
      "  1380        0.0003             nan     0.0100   -0.0000\n",
      "  1400        0.0002             nan     0.0100   -0.0000\n",
      "  1420        0.0002             nan     0.0100   -0.0000\n",
      "  1440        0.0002             nan     0.0100   -0.0000\n",
      "  1460        0.0002             nan     0.0100   -0.0000\n",
      "  1480        0.0002             nan     0.0100   -0.0000\n",
      "  1500        0.0002             nan     0.0100   -0.0000\n",
      "\n",
      "- Fold06.Rep1: n.trees=1500, shrinkage=0.01, interaction.depth=40, n.minobsinnode=1 \n",
      "+ Fold07.Rep1: n.trees=1500, shrinkage=0.01, interaction.depth=40, n.minobsinnode=1 \n",
      "Iter   TrainDeviance   ValidDeviance   StepSize   Improve\n",
      "     1        0.0253             nan     0.0100    0.0003\n",
      "     2        0.0250             nan     0.0100    0.0003\n",
      "     3        0.0247             nan     0.0100    0.0003\n",
      "     4        0.0243             nan     0.0100    0.0003\n",
      "     5        0.0240             nan     0.0100    0.0003\n",
      "     6        0.0237             nan     0.0100    0.0003\n",
      "     7        0.0234             nan     0.0100    0.0003\n",
      "     8        0.0231             nan     0.0100    0.0003\n",
      "     9        0.0228             nan     0.0100    0.0003\n",
      "    10        0.0225             nan     0.0100    0.0003\n",
      "    20        0.0198             nan     0.0100    0.0002\n",
      "    40        0.0156             nan     0.0100    0.0001\n",
      "    60        0.0126             nan     0.0100    0.0001\n",
      "    80        0.0104             nan     0.0100    0.0001\n",
      "   100        0.0088             nan     0.0100    0.0001\n",
      "   120        0.0076             nan     0.0100    0.0000\n",
      "   140        0.0066             nan     0.0100    0.0000\n",
      "   160        0.0059             nan     0.0100    0.0000\n",
      "   180        0.0053             nan     0.0100    0.0000\n",
      "   200        0.0048             nan     0.0100    0.0000\n",
      "   220        0.0044             nan     0.0100    0.0000\n",
      "   240        0.0041             nan     0.0100    0.0000\n",
      "   260        0.0038             nan     0.0100    0.0000\n",
      "   280        0.0035             nan     0.0100    0.0000\n",
      "   300        0.0033             nan     0.0100    0.0000\n",
      "   320        0.0031             nan     0.0100    0.0000\n",
      "   340        0.0029             nan     0.0100    0.0000\n",
      "   360        0.0028             nan     0.0100    0.0000\n",
      "   380        0.0026             nan     0.0100    0.0000\n",
      "   400        0.0025             nan     0.0100   -0.0000\n",
      "   420        0.0023             nan     0.0100   -0.0000\n",
      "   440        0.0022             nan     0.0100   -0.0000\n",
      "   460        0.0021             nan     0.0100   -0.0000\n",
      "   480        0.0020             nan     0.0100    0.0000\n",
      "   500        0.0019             nan     0.0100   -0.0000\n",
      "   520        0.0018             nan     0.0100   -0.0000\n",
      "   540        0.0017             nan     0.0100   -0.0000\n",
      "   560        0.0016             nan     0.0100    0.0000\n",
      "   580        0.0015             nan     0.0100   -0.0000\n",
      "   600        0.0014             nan     0.0100   -0.0000\n",
      "   620        0.0014             nan     0.0100   -0.0000\n",
      "   640        0.0013             nan     0.0100   -0.0000\n",
      "   660        0.0013             nan     0.0100   -0.0000\n",
      "   680        0.0012             nan     0.0100   -0.0000\n",
      "   700        0.0011             nan     0.0100   -0.0000\n",
      "   720        0.0011             nan     0.0100   -0.0000\n",
      "   740        0.0010             nan     0.0100   -0.0000\n",
      "   760        0.0010             nan     0.0100   -0.0000\n",
      "   780        0.0009             nan     0.0100   -0.0000\n",
      "   800        0.0009             nan     0.0100   -0.0000\n",
      "   820        0.0009             nan     0.0100   -0.0000\n",
      "   840        0.0008             nan     0.0100   -0.0000\n",
      "   860        0.0008             nan     0.0100   -0.0000\n",
      "   880        0.0007             nan     0.0100   -0.0000\n",
      "   900        0.0007             nan     0.0100   -0.0000\n",
      "   920        0.0007             nan     0.0100   -0.0000\n",
      "   940        0.0007             nan     0.0100   -0.0000\n",
      "   960        0.0006             nan     0.0100   -0.0000\n",
      "   980        0.0006             nan     0.0100   -0.0000\n",
      "  1000        0.0006             nan     0.0100   -0.0000\n",
      "  1020        0.0005             nan     0.0100   -0.0000\n",
      "  1040        0.0005             nan     0.0100   -0.0000\n",
      "  1060        0.0005             nan     0.0100   -0.0000\n",
      "  1080        0.0005             nan     0.0100   -0.0000\n",
      "  1100        0.0005             nan     0.0100   -0.0000\n",
      "  1120        0.0004             nan     0.0100   -0.0000\n",
      "  1140        0.0004             nan     0.0100   -0.0000\n",
      "  1160        0.0004             nan     0.0100   -0.0000\n",
      "  1180        0.0004             nan     0.0100   -0.0000\n",
      "  1200        0.0004             nan     0.0100   -0.0000\n",
      "  1220        0.0004             nan     0.0100   -0.0000\n",
      "  1240        0.0003             nan     0.0100   -0.0000\n",
      "  1260        0.0003             nan     0.0100   -0.0000\n",
      "  1280        0.0003             nan     0.0100   -0.0000\n",
      "  1300        0.0003             nan     0.0100   -0.0000\n",
      "  1320        0.0003             nan     0.0100   -0.0000\n",
      "  1340        0.0003             nan     0.0100   -0.0000\n",
      "  1360        0.0003             nan     0.0100   -0.0000\n",
      "  1380        0.0003             nan     0.0100   -0.0000\n",
      "  1400        0.0002             nan     0.0100   -0.0000\n",
      "  1420        0.0002             nan     0.0100   -0.0000\n",
      "  1440        0.0002             nan     0.0100   -0.0000\n",
      "  1460        0.0002             nan     0.0100   -0.0000\n",
      "  1480        0.0002             nan     0.0100   -0.0000\n",
      "  1500        0.0002             nan     0.0100   -0.0000\n",
      "\n",
      "- Fold07.Rep1: n.trees=1500, shrinkage=0.01, interaction.depth=40, n.minobsinnode=1 \n",
      "+ Fold08.Rep1: n.trees=1500, shrinkage=0.01, interaction.depth=40, n.minobsinnode=1 \n",
      "Iter   TrainDeviance   ValidDeviance   StepSize   Improve\n",
      "     1        0.0253             nan     0.0100    0.0003\n",
      "     2        0.0250             nan     0.0100    0.0003\n",
      "     3        0.0246             nan     0.0100    0.0003\n",
      "     4        0.0243             nan     0.0100    0.0003\n",
      "     5        0.0240             nan     0.0100    0.0003\n",
      "     6        0.0237             nan     0.0100    0.0003\n",
      "     7        0.0234             nan     0.0100    0.0003\n",
      "     8        0.0231             nan     0.0100    0.0003\n",
      "     9        0.0228             nan     0.0100    0.0003\n",
      "    10        0.0225             nan     0.0100    0.0003\n",
      "    20        0.0198             nan     0.0100    0.0002\n",
      "    40        0.0156             nan     0.0100    0.0001\n",
      "    60        0.0126             nan     0.0100    0.0001\n",
      "    80        0.0104             nan     0.0100    0.0001\n",
      "   100        0.0088             nan     0.0100    0.0000\n",
      "   120        0.0076             nan     0.0100    0.0000\n",
      "   140        0.0067             nan     0.0100    0.0000\n",
      "   160        0.0059             nan     0.0100    0.0000\n",
      "   180        0.0054             nan     0.0100    0.0000\n",
      "   200        0.0049             nan     0.0100    0.0000\n",
      "   220        0.0045             nan     0.0100    0.0000\n",
      "   240        0.0041             nan     0.0100    0.0000\n",
      "   260        0.0038             nan     0.0100    0.0000\n",
      "   280        0.0036             nan     0.0100    0.0000\n",
      "   300        0.0033             nan     0.0100    0.0000\n",
      "   320        0.0031             nan     0.0100    0.0000\n",
      "   340        0.0029             nan     0.0100   -0.0000\n",
      "   360        0.0028             nan     0.0100   -0.0000\n",
      "   380        0.0026             nan     0.0100    0.0000\n",
      "   400        0.0025             nan     0.0100   -0.0000\n",
      "   420        0.0023             nan     0.0100    0.0000\n",
      "   440        0.0022             nan     0.0100   -0.0000\n",
      "   460        0.0021             nan     0.0100   -0.0000\n",
      "   480        0.0020             nan     0.0100   -0.0000\n",
      "   500        0.0019             nan     0.0100    0.0000\n",
      "   520        0.0018             nan     0.0100   -0.0000\n",
      "   540        0.0017             nan     0.0100   -0.0000\n",
      "   560        0.0016             nan     0.0100   -0.0000\n",
      "   580        0.0015             nan     0.0100   -0.0000\n",
      "   600        0.0015             nan     0.0100   -0.0000\n",
      "   620        0.0014             nan     0.0100    0.0000\n",
      "   640        0.0013             nan     0.0100   -0.0000\n",
      "   660        0.0013             nan     0.0100   -0.0000\n",
      "   680        0.0012             nan     0.0100   -0.0000\n",
      "   700        0.0011             nan     0.0100   -0.0000\n",
      "   720        0.0011             nan     0.0100   -0.0000\n",
      "   740        0.0010             nan     0.0100   -0.0000\n",
      "   760        0.0010             nan     0.0100   -0.0000\n",
      "   780        0.0009             nan     0.0100   -0.0000\n",
      "   800        0.0009             nan     0.0100   -0.0000\n",
      "   820        0.0009             nan     0.0100   -0.0000\n",
      "   840        0.0008             nan     0.0100   -0.0000\n",
      "   860        0.0008             nan     0.0100   -0.0000\n",
      "   880        0.0008             nan     0.0100   -0.0000\n",
      "   900        0.0007             nan     0.0100   -0.0000\n",
      "   920        0.0007             nan     0.0100   -0.0000\n",
      "   940        0.0007             nan     0.0100   -0.0000\n",
      "   960        0.0006             nan     0.0100   -0.0000\n",
      "   980        0.0006             nan     0.0100   -0.0000\n",
      "  1000        0.0006             nan     0.0100   -0.0000\n",
      "  1020        0.0005             nan     0.0100   -0.0000\n",
      "  1040        0.0005             nan     0.0100   -0.0000\n",
      "  1060        0.0005             nan     0.0100   -0.0000\n",
      "  1080        0.0005             nan     0.0100   -0.0000\n",
      "  1100        0.0005             nan     0.0100   -0.0000\n",
      "  1120        0.0004             nan     0.0100   -0.0000\n",
      "  1140        0.0004             nan     0.0100   -0.0000\n",
      "  1160        0.0004             nan     0.0100   -0.0000\n",
      "  1180        0.0004             nan     0.0100   -0.0000\n",
      "  1200        0.0004             nan     0.0100   -0.0000\n",
      "  1220        0.0004             nan     0.0100   -0.0000\n",
      "  1240        0.0003             nan     0.0100   -0.0000\n",
      "  1260        0.0003             nan     0.0100   -0.0000\n",
      "  1280        0.0003             nan     0.0100   -0.0000\n",
      "  1300        0.0003             nan     0.0100   -0.0000\n",
      "  1320        0.0003             nan     0.0100   -0.0000\n",
      "  1340        0.0003             nan     0.0100   -0.0000\n",
      "  1360        0.0003             nan     0.0100   -0.0000\n",
      "  1380        0.0003             nan     0.0100   -0.0000\n",
      "  1400        0.0002             nan     0.0100   -0.0000\n",
      "  1420        0.0002             nan     0.0100   -0.0000\n",
      "  1440        0.0002             nan     0.0100   -0.0000\n",
      "  1460        0.0002             nan     0.0100   -0.0000\n",
      "  1480        0.0002             nan     0.0100   -0.0000\n",
      "  1500        0.0002             nan     0.0100   -0.0000\n",
      "\n",
      "- Fold08.Rep1: n.trees=1500, shrinkage=0.01, interaction.depth=40, n.minobsinnode=1 \n",
      "+ Fold09.Rep1: n.trees=1500, shrinkage=0.01, interaction.depth=40, n.minobsinnode=1 \n",
      "Iter   TrainDeviance   ValidDeviance   StepSize   Improve\n",
      "     1        0.0253             nan     0.0100    0.0003\n",
      "     2        0.0249             nan     0.0100    0.0003\n",
      "     3        0.0246             nan     0.0100    0.0003\n",
      "     4        0.0243             nan     0.0100    0.0003\n",
      "     5        0.0239             nan     0.0100    0.0003\n",
      "     6        0.0236             nan     0.0100    0.0003\n",
      "     7        0.0233             nan     0.0100    0.0003\n",
      "     8        0.0230             nan     0.0100    0.0003\n",
      "     9        0.0227             nan     0.0100    0.0003\n",
      "    10        0.0224             nan     0.0100    0.0003\n",
      "    20        0.0198             nan     0.0100    0.0002\n",
      "    40        0.0156             nan     0.0100    0.0002\n",
      "    60        0.0126             nan     0.0100    0.0001\n",
      "    80        0.0104             nan     0.0100    0.0001\n",
      "   100        0.0088             nan     0.0100    0.0000\n",
      "   120        0.0076             nan     0.0100    0.0000\n",
      "   140        0.0066             nan     0.0100    0.0000\n",
      "   160        0.0059             nan     0.0100    0.0000\n",
      "   180        0.0053             nan     0.0100    0.0000\n",
      "   200        0.0048             nan     0.0100    0.0000\n",
      "   220        0.0044             nan     0.0100    0.0000\n",
      "   240        0.0041             nan     0.0100    0.0000\n",
      "   260        0.0038             nan     0.0100    0.0000\n",
      "   280        0.0036             nan     0.0100    0.0000\n",
      "   300        0.0033             nan     0.0100    0.0000\n",
      "   320        0.0031             nan     0.0100    0.0000\n",
      "   340        0.0029             nan     0.0100   -0.0000\n",
      "   360        0.0028             nan     0.0100   -0.0000\n",
      "   380        0.0026             nan     0.0100   -0.0000\n",
      "   400        0.0025             nan     0.0100    0.0000\n",
      "   420        0.0023             nan     0.0100   -0.0000\n",
      "   440        0.0022             nan     0.0100   -0.0000\n",
      "   460        0.0021             nan     0.0100   -0.0000\n",
      "   480        0.0020             nan     0.0100   -0.0000\n",
      "   500        0.0019             nan     0.0100   -0.0000\n",
      "   520        0.0018             nan     0.0100   -0.0000\n",
      "   540        0.0017             nan     0.0100   -0.0000\n",
      "   560        0.0016             nan     0.0100   -0.0000\n",
      "   580        0.0015             nan     0.0100   -0.0000\n",
      "   600        0.0015             nan     0.0100   -0.0000\n",
      "   620        0.0014             nan     0.0100   -0.0000\n",
      "   640        0.0013             nan     0.0100   -0.0000\n",
      "   660        0.0013             nan     0.0100    0.0000\n",
      "   680        0.0012             nan     0.0100    0.0000\n",
      "   700        0.0011             nan     0.0100   -0.0000\n",
      "   720        0.0011             nan     0.0100   -0.0000\n",
      "   740        0.0010             nan     0.0100   -0.0000\n",
      "   760        0.0010             nan     0.0100   -0.0000\n",
      "   780        0.0010             nan     0.0100   -0.0000\n",
      "   800        0.0009             nan     0.0100   -0.0000\n",
      "   820        0.0009             nan     0.0100   -0.0000\n",
      "   840        0.0008             nan     0.0100   -0.0000\n",
      "   860        0.0008             nan     0.0100   -0.0000\n",
      "   880        0.0008             nan     0.0100   -0.0000\n",
      "   900        0.0007             nan     0.0100   -0.0000\n",
      "   920        0.0007             nan     0.0100   -0.0000\n",
      "   940        0.0007             nan     0.0100   -0.0000\n",
      "   960        0.0006             nan     0.0100   -0.0000\n",
      "   980        0.0006             nan     0.0100   -0.0000\n",
      "  1000        0.0006             nan     0.0100   -0.0000\n",
      "  1020        0.0006             nan     0.0100   -0.0000\n",
      "  1040        0.0005             nan     0.0100   -0.0000\n",
      "  1060        0.0005             nan     0.0100   -0.0000\n",
      "  1080        0.0005             nan     0.0100   -0.0000\n",
      "  1100        0.0005             nan     0.0100   -0.0000\n",
      "  1120        0.0004             nan     0.0100   -0.0000\n",
      "  1140        0.0004             nan     0.0100   -0.0000\n",
      "  1160        0.0004             nan     0.0100   -0.0000\n",
      "  1180        0.0004             nan     0.0100   -0.0000\n",
      "  1200        0.0004             nan     0.0100   -0.0000\n",
      "  1220        0.0004             nan     0.0100   -0.0000\n",
      "  1240        0.0003             nan     0.0100   -0.0000\n",
      "  1260        0.0003             nan     0.0100   -0.0000\n",
      "  1280        0.0003             nan     0.0100   -0.0000\n",
      "  1300        0.0003             nan     0.0100   -0.0000\n",
      "  1320        0.0003             nan     0.0100   -0.0000\n",
      "  1340        0.0003             nan     0.0100   -0.0000\n",
      "  1360        0.0003             nan     0.0100   -0.0000\n",
      "  1380        0.0003             nan     0.0100   -0.0000\n",
      "  1400        0.0002             nan     0.0100   -0.0000\n",
      "  1420        0.0002             nan     0.0100   -0.0000\n",
      "  1440        0.0002             nan     0.0100   -0.0000\n",
      "  1460        0.0002             nan     0.0100   -0.0000\n",
      "  1480        0.0002             nan     0.0100   -0.0000\n",
      "  1500        0.0002             nan     0.0100   -0.0000\n",
      "\n",
      "- Fold09.Rep1: n.trees=1500, shrinkage=0.01, interaction.depth=40, n.minobsinnode=1 \n",
      "+ Fold10.Rep1: n.trees=1500, shrinkage=0.01, interaction.depth=40, n.minobsinnode=1 \n",
      "Iter   TrainDeviance   ValidDeviance   StepSize   Improve\n",
      "     1        0.0254             nan     0.0100    0.0003\n",
      "     2        0.0251             nan     0.0100    0.0003\n",
      "     3        0.0247             nan     0.0100    0.0003\n",
      "     4        0.0244             nan     0.0100    0.0003\n",
      "     5        0.0241             nan     0.0100    0.0003\n",
      "     6        0.0238             nan     0.0100    0.0003\n",
      "     7        0.0235             nan     0.0100    0.0003\n",
      "     8        0.0232             nan     0.0100    0.0003\n",
      "     9        0.0228             nan     0.0100    0.0003\n",
      "    10        0.0226             nan     0.0100    0.0003\n",
      "    20        0.0199             nan     0.0100    0.0002\n",
      "    40        0.0157             nan     0.0100    0.0002\n",
      "    60        0.0127             nan     0.0100    0.0001\n",
      "    80        0.0105             nan     0.0100    0.0001\n",
      "   100        0.0089             nan     0.0100    0.0000\n",
      "   120        0.0077             nan     0.0100    0.0000\n",
      "   140        0.0067             nan     0.0100    0.0000\n",
      "   160        0.0060             nan     0.0100    0.0000\n",
      "   180        0.0054             nan     0.0100    0.0000\n",
      "   200        0.0049             nan     0.0100    0.0000\n",
      "   220        0.0045             nan     0.0100    0.0000\n",
      "   240        0.0042             nan     0.0100    0.0000\n",
      "   260        0.0039             nan     0.0100    0.0000\n",
      "   280        0.0036             nan     0.0100    0.0000\n",
      "   300        0.0034             nan     0.0100    0.0000\n",
      "   320        0.0032             nan     0.0100    0.0000\n",
      "   340        0.0030             nan     0.0100    0.0000\n",
      "   360        0.0028             nan     0.0100   -0.0000\n",
      "   380        0.0027             nan     0.0100    0.0000\n",
      "   400        0.0025             nan     0.0100   -0.0000\n",
      "   420        0.0024             nan     0.0100   -0.0000\n",
      "   440        0.0022             nan     0.0100    0.0000\n",
      "   460        0.0021             nan     0.0100   -0.0000\n",
      "   480        0.0020             nan     0.0100   -0.0000\n",
      "   500        0.0019             nan     0.0100   -0.0000\n",
      "   520        0.0018             nan     0.0100   -0.0000\n",
      "   540        0.0017             nan     0.0100    0.0000\n",
      "   560        0.0016             nan     0.0100   -0.0000\n",
      "   580        0.0016             nan     0.0100   -0.0000\n",
      "   600        0.0015             nan     0.0100    0.0000\n",
      "   620        0.0014             nan     0.0100   -0.0000\n",
      "   640        0.0013             nan     0.0100   -0.0000\n",
      "   660        0.0013             nan     0.0100   -0.0000\n",
      "   680        0.0012             nan     0.0100   -0.0000\n",
      "   700        0.0012             nan     0.0100   -0.0000\n",
      "   720        0.0011             nan     0.0100   -0.0000\n",
      "   740        0.0011             nan     0.0100   -0.0000\n",
      "   760        0.0010             nan     0.0100    0.0000\n",
      "   780        0.0010             nan     0.0100   -0.0000\n",
      "   800        0.0009             nan     0.0100   -0.0000\n",
      "   820        0.0009             nan     0.0100   -0.0000\n",
      "   840        0.0008             nan     0.0100   -0.0000\n",
      "   860        0.0008             nan     0.0100   -0.0000\n",
      "   880        0.0008             nan     0.0100    0.0000\n",
      "   900        0.0007             nan     0.0100   -0.0000\n",
      "   920        0.0007             nan     0.0100   -0.0000\n",
      "   940        0.0007             nan     0.0100   -0.0000\n",
      "   960        0.0006             nan     0.0100   -0.0000\n",
      "   980        0.0006             nan     0.0100   -0.0000\n",
      "  1000        0.0006             nan     0.0100   -0.0000\n",
      "  1020        0.0006             nan     0.0100   -0.0000\n",
      "  1040        0.0005             nan     0.0100   -0.0000\n",
      "  1060        0.0005             nan     0.0100   -0.0000\n",
      "  1080        0.0005             nan     0.0100   -0.0000\n",
      "  1100        0.0005             nan     0.0100   -0.0000\n",
      "  1120        0.0004             nan     0.0100   -0.0000\n",
      "  1140        0.0004             nan     0.0100   -0.0000\n",
      "  1160        0.0004             nan     0.0100   -0.0000\n",
      "  1180        0.0004             nan     0.0100   -0.0000\n",
      "  1200        0.0004             nan     0.0100   -0.0000\n",
      "  1220        0.0004             nan     0.0100   -0.0000\n",
      "  1240        0.0003             nan     0.0100   -0.0000\n",
      "  1260        0.0003             nan     0.0100   -0.0000\n",
      "  1280        0.0003             nan     0.0100   -0.0000\n",
      "  1300        0.0003             nan     0.0100   -0.0000\n",
      "  1320        0.0003             nan     0.0100   -0.0000\n",
      "  1340        0.0003             nan     0.0100   -0.0000\n",
      "  1360        0.0003             nan     0.0100   -0.0000\n",
      "  1380        0.0003             nan     0.0100   -0.0000\n",
      "  1400        0.0002             nan     0.0100   -0.0000\n",
      "  1420        0.0002             nan     0.0100   -0.0000\n",
      "  1440        0.0002             nan     0.0100   -0.0000\n",
      "  1460        0.0002             nan     0.0100   -0.0000\n",
      "  1480        0.0002             nan     0.0100   -0.0000\n",
      "  1500        0.0002             nan     0.0100   -0.0000\n",
      "\n",
      "- Fold10.Rep1: n.trees=1500, shrinkage=0.01, interaction.depth=40, n.minobsinnode=1 \n",
      "Aggregating results\n",
      "Fitting final model on full training set\n",
      "Iter   TrainDeviance   ValidDeviance   StepSize   Improve\n",
      "     1        0.0252             nan     0.0100    0.0003\n",
      "     2        0.0249             nan     0.0100    0.0003\n",
      "     3        0.0245             nan     0.0100    0.0003\n",
      "     4        0.0242             nan     0.0100    0.0003\n",
      "     5        0.0239             nan     0.0100    0.0003\n",
      "     6        0.0236             nan     0.0100    0.0003\n",
      "     7        0.0233             nan     0.0100    0.0003\n",
      "     8        0.0230             nan     0.0100    0.0003\n",
      "     9        0.0227             nan     0.0100    0.0003\n",
      "    10        0.0224             nan     0.0100    0.0003\n",
      "    20        0.0197             nan     0.0100    0.0002\n",
      "    40        0.0156             nan     0.0100    0.0001\n",
      "    60        0.0127             nan     0.0100    0.0001\n",
      "    80        0.0105             nan     0.0100    0.0001\n",
      "   100        0.0089             nan     0.0100    0.0000\n",
      "   120        0.0077             nan     0.0100    0.0000\n",
      "   140        0.0068             nan     0.0100    0.0000\n",
      "   160        0.0061             nan     0.0100    0.0000\n",
      "   180        0.0055             nan     0.0100    0.0000\n",
      "   200        0.0051             nan     0.0100    0.0000\n",
      "   220        0.0047             nan     0.0100    0.0000\n",
      "   240        0.0043             nan     0.0100    0.0000\n",
      "   260        0.0040             nan     0.0100    0.0000\n",
      "   280        0.0038             nan     0.0100    0.0000\n",
      "   300        0.0035             nan     0.0100    0.0000\n",
      "   320        0.0033             nan     0.0100   -0.0000\n",
      "   340        0.0032             nan     0.0100    0.0000\n",
      "   360        0.0030             nan     0.0100    0.0000\n",
      "   380        0.0028             nan     0.0100    0.0000\n",
      "   400        0.0027             nan     0.0100   -0.0000\n",
      "   420        0.0025             nan     0.0100   -0.0000\n",
      "   440        0.0024             nan     0.0100    0.0000\n",
      "   460        0.0023             nan     0.0100   -0.0000\n",
      "   480        0.0022             nan     0.0100   -0.0000\n",
      "   500        0.0021             nan     0.0100   -0.0000\n",
      "   520        0.0020             nan     0.0100    0.0000\n",
      "   540        0.0019             nan     0.0100   -0.0000\n",
      "   560        0.0018             nan     0.0100   -0.0000\n",
      "   580        0.0017             nan     0.0100   -0.0000\n",
      "   600        0.0016             nan     0.0100   -0.0000\n",
      "   620        0.0016             nan     0.0100   -0.0000\n",
      "   640        0.0015             nan     0.0100   -0.0000\n",
      "   660        0.0014             nan     0.0100   -0.0000\n",
      "   680        0.0014             nan     0.0100   -0.0000\n",
      "   700        0.0013             nan     0.0100   -0.0000\n",
      "   720        0.0013             nan     0.0100   -0.0000\n",
      "   740        0.0012             nan     0.0100    0.0000\n",
      "   760        0.0012             nan     0.0100   -0.0000\n",
      "   780        0.0011             nan     0.0100   -0.0000\n",
      "   800        0.0011             nan     0.0100   -0.0000\n",
      "   820        0.0010             nan     0.0100   -0.0000\n",
      "   840        0.0010             nan     0.0100    0.0000\n",
      "   860        0.0009             nan     0.0100   -0.0000\n",
      "   880        0.0009             nan     0.0100   -0.0000\n",
      "   900        0.0009             nan     0.0100   -0.0000\n",
      "   920        0.0008             nan     0.0100   -0.0000\n",
      "   940        0.0008             nan     0.0100   -0.0000\n",
      "   960        0.0008             nan     0.0100   -0.0000\n",
      "   980        0.0007             nan     0.0100   -0.0000\n",
      "  1000        0.0007             nan     0.0100   -0.0000\n",
      "  1020        0.0007             nan     0.0100   -0.0000\n",
      "  1040        0.0006             nan     0.0100   -0.0000\n",
      "  1060        0.0006             nan     0.0100   -0.0000\n",
      "  1080        0.0006             nan     0.0100   -0.0000\n",
      "  1100        0.0006             nan     0.0100   -0.0000\n",
      "  1120        0.0005             nan     0.0100   -0.0000\n",
      "  1140        0.0005             nan     0.0100   -0.0000\n",
      "  1160        0.0005             nan     0.0100   -0.0000\n",
      "  1180        0.0005             nan     0.0100   -0.0000\n",
      "  1200        0.0005             nan     0.0100   -0.0000\n",
      "  1220        0.0004             nan     0.0100   -0.0000\n",
      "  1240        0.0004             nan     0.0100   -0.0000\n",
      "  1260        0.0004             nan     0.0100   -0.0000\n",
      "  1280        0.0004             nan     0.0100   -0.0000\n",
      "  1300        0.0004             nan     0.0100   -0.0000\n",
      "  1320        0.0004             nan     0.0100   -0.0000\n",
      "  1340        0.0004             nan     0.0100   -0.0000\n",
      "  1360        0.0003             nan     0.0100   -0.0000\n",
      "  1380        0.0003             nan     0.0100   -0.0000\n",
      "  1400        0.0003             nan     0.0100   -0.0000\n",
      "  1420        0.0003             nan     0.0100   -0.0000\n",
      "  1440        0.0003             nan     0.0100   -0.0000\n",
      "  1460        0.0003             nan     0.0100   -0.0000\n",
      "  1480        0.0003             nan     0.0100   -0.0000\n",
      "  1500        0.0003             nan     0.0100   -0.0000\n",
      "\n"
     ]
    },
    {
     "data": {
      "text/html": [
       "0.0871608813901354"
      ],
      "text/latex": [
       "0.0871608813901354"
      ],
      "text/markdown": [
       "0.0871608813901354"
      ],
      "text/plain": [
       "[1] 0.08716088"
      ]
     },
     "metadata": {},
     "output_type": "display_data"
    },
    {
     "data": {
      "text/html": [
       "0.703487184981818"
      ],
      "text/latex": [
       "0.703487184981818"
      ],
      "text/markdown": [
       "0.703487184981818"
      ],
      "text/plain": [
       "[1] 0.7034872"
      ]
     },
     "metadata": {},
     "output_type": "display_data"
    },
    {
     "data": {
      "text/html": [
       "<table>\n",
       "<thead><tr><th></th><th scope=col>n.trees</th><th scope=col>interaction.depth</th><th scope=col>shrinkage</th><th scope=col>n.minobsinnode</th></tr></thead>\n",
       "<tbody>\n",
       "\t<tr><th scope=row>1</th><td>1500.00</td><td>  40.00</td><td>   0.01</td><td>   1.00</td></tr>\n",
       "</tbody>\n",
       "</table>\n"
      ],
      "text/latex": [
       "\\begin{tabular}{r|llll}\n",
       "  & n.trees & interaction.depth & shrinkage & n.minobsinnode\\\\\n",
       "\\hline\n",
       "\t1 & 1500.00 &   40.00 &    0.01 &    1.00\\\\\n",
       "\\end{tabular}\n"
      ],
      "text/plain": [
       "  n.trees interaction.depth shrinkage n.minobsinnode\n",
       "1    1500                40      0.01              1"
      ]
     },
     "metadata": {},
     "output_type": "display_data"
    }
   ],
   "source": [
    "grid_gbm = expand.grid(n.trees=1500, shrinkage= 0.01,\n",
    "                       interaction.depth=40, n.minobsinnode=1)\n",
    "# similar to the case in the random forest model, I chose hyperparameters that performed best after having run the model with wide range of hyperparameters.\n",
    "fit_gbm = caret_reg(as.matrix(vote_features), vote_target, \"gbm\", grid_gbm)\n",
    "min(fit_gbm$results$RMSE) # 0.08711292\n",
    "max(fit_gbm$results$Rsquared) # 0.7038636\n",
    "fit_gbm$bestTune #n.trees = 1500, interaction.depth = 40, shrinkage = 0.01, n.minobsinnode = 1\n"
   ]
  },
  {
   "cell_type": "markdown",
   "metadata": {},
   "source": [
    "Compared to the elastic net regression model (RMSE: 0.099615, R-Squared: 0.61446), gradient boosted trees performed better (RMSE: 0.08711292, R-Squared: 0.7038636). \n",
    "\n"
   ]
  },
  {
   "cell_type": "markdown",
   "metadata": {},
   "source": [
    "Having seen that the gradient boosted trees model outperforms the previous two models, I will move onto interpreting what variables from the features are important for vote prediction."
   ]
  },
  {
   "cell_type": "markdown",
   "metadata": {},
   "source": [
    "# Interpretation"
   ]
  },
  {
   "cell_type": "markdown",
   "metadata": {},
   "source": [
    "##### 1. Examining variable importance"
   ]
  },
  {
   "cell_type": "markdown",
   "metadata": {},
   "source": [
    "Top 5 largest relative influence/importance of variables in the gradient boosted trees model:"
   ]
  },
  {
   "cell_type": "code",
   "execution_count": 10,
   "metadata": {
    "collapsed": false
   },
   "outputs": [
    {
     "data": {
      "text/html": [
       "<table>\n",
       "<thead><tr><th></th><th scope=col>var</th><th scope=col>rel.inf</th></tr></thead>\n",
       "<tbody>\n",
       "\t<tr><th scope=row>RHI225214</th><td>RHI225214       </td><td>37.4919960517805</td></tr>\n",
       "\t<tr><th scope=row>RHI625214</th><td>RHI625214       </td><td>4.50866381514886</td></tr>\n",
       "\t<tr><th scope=row>RHI725214</th><td>RHI725214       </td><td>3.25633770595578</td></tr>\n",
       "\t<tr><th scope=row>HSG495213</th><td>HSG495213      </td><td>2.8247025486858</td></tr>\n",
       "\t<tr><th scope=row>SEX255214</th><td>SEX255214       </td><td>2.31370819540162</td></tr>\n",
       "</tbody>\n",
       "</table>\n"
      ],
      "text/latex": [
       "\\begin{tabular}{r|ll}\n",
       "  & var & rel.inf\\\\\n",
       "\\hline\n",
       "\tRHI225214 & RHI225214        & 37.4919960517805\\\\\n",
       "\tRHI625214 & RHI625214        & 4.50866381514886\\\\\n",
       "\tRHI725214 & RHI725214        & 3.25633770595578\\\\\n",
       "\tHSG495213 & HSG495213       & 2.8247025486858\\\\\n",
       "\tSEX255214 & SEX255214        & 2.31370819540162\\\\\n",
       "\\end{tabular}\n"
      ],
      "text/plain": [
       "                var   rel.inf\n",
       "RHI225214 RHI225214 37.491996\n",
       "RHI625214 RHI625214  4.508664\n",
       "RHI725214 RHI725214  3.256338\n",
       "HSG495213 HSG495213  2.824703\n",
       "SEX255214 SEX255214  2.313708"
      ]
     },
     "metadata": {},
     "output_type": "display_data"
    },
    {
     "data": {
      "image/png": "[encoded data removed]",
      "text/plain": [
       "plot without title"
      ]
     },
     "metadata": {
      "image/svg+xml": {
       "isolated": true
      }
     },
     "output_type": "display_data"
    }
   ],
   "source": [
    "head(summary(fit_gbm), 5) # calling first 10 largest relative influence of variables"
   ]
  },
  {
   "cell_type": "markdown",
   "metadata": {},
   "source": [
    "Referring to dict(county_facts_dictionary.csv), we can see that the first 5 most important variables in predicting fraction of vote for Clinton are as follows:"
   ]
  },
  {
   "cell_type": "code",
   "execution_count": 15,
   "metadata": {
    "collapsed": false
   },
   "outputs": [
    {
     "data": {
      "text/html": [
       "<table>\n",
       "<thead><tr><th></th><th scope=col>column_name</th><th scope=col>description</th></tr></thead>\n",
       "<tbody>\n",
       "\t<tr><th scope=row>10</th><td>RHI225214                                     </td><td>Black or African American alone, percent, 2014</td></tr>\n",
       "\t<tr><th scope=row>14</th><td>RHI625214                       </td><td>Two or More Races, percent, 2014</td></tr>\n",
       "\t<tr><th scope=row>15</th><td>RHI725214                        </td><td>Hispanic or Latino, percent, 2014</td></tr>\n",
       "\t<tr><th scope=row>27</th><td>HSG495213                                              </td><td>Median value of owner-occupied housing units, 2009-2013</td></tr>\n",
       "\t<tr><th scope=row>8</th><td>SEX255214                    </td><td>Female persons, percent, 2014</td></tr>\n",
       "</tbody>\n",
       "</table>\n"
      ],
      "text/latex": [
       "\\begin{tabular}{r|ll}\n",
       "  & column\\_name & description\\\\\n",
       "\\hline\n",
       "\t10 & RHI225214                                      & Black or African American alone, percent, 2014\\\\\n",
       "\t14 & RHI625214                        & Two or More Races, percent, 2014\\\\\n",
       "\t15 & RHI725214                         & Hispanic or Latino, percent, 2014\\\\\n",
       "\t27 & HSG495213                                               & Median value of owner-occupied housing units, 2009-2013\\\\\n",
       "\t8 & SEX255214                     & Female persons, percent, 2014\\\\\n",
       "\\end{tabular}\n"
      ],
      "text/plain": [
       "   column_name                                             description\n",
       "10   RHI225214          Black or African American alone, percent, 2014\n",
       "14   RHI625214                        Two or More Races, percent, 2014\n",
       "15   RHI725214                       Hispanic or Latino, percent, 2014\n",
       "27   HSG495213 Median value of owner-occupied housing units, 2009-2013\n",
       "8    SEX255214                           Female persons, percent, 2014"
      ]
     },
     "metadata": {},
     "output_type": "display_data"
    }
   ],
   "source": [
    "dict[c(10, 14, 15, 27, 8), ]"
   ]
  },
  {
   "cell_type": "markdown",
   "metadata": {},
   "source": [
    "Based on the table, we can conclude that the 5 most important features are Black or African American population percentage , mixed race population percentage, Hispanic or Lationo population percentage, median housing price, and female percentage in a county. It is noteworthy to mention that Black or African American population percentage has much higher relative influence (close to factor of 10) compared to other four variables."
   ]
  },
  {
   "cell_type": "markdown",
   "metadata": {},
   "source": [
    "##### 2. Examining correlation between the target variable and the features variable"
   ]
  },
  {
   "cell_type": "markdown",
   "metadata": {},
   "source": [
    "Having looked at which variables are most important, let's see how these variables (along with others) correlate with the fraction of vote supporting Clinton. First, let's start the five variables we just looked at:"
   ]
  },
  {
   "cell_type": "code",
   "execution_count": 21,
   "metadata": {
    "collapsed": false
   },
   "outputs": [
    {
     "data": {
      "text/html": [
       "<table>\n",
       "<thead><tr><th></th><th scope=col>column_name</th><th scope=col>description</th><th scope=col>correlation_vote</th></tr></thead>\n",
       "<tbody>\n",
       "\t<tr><th scope=row>RHI225214</th><td>RHI225214                                     </td><td>Black or African American alone, percent, 2014</td><td>0.693                                         </td></tr>\n",
       "\t<tr><th scope=row>RHI625214</th><td>RHI625214                       </td><td>Two or More Races, percent, 2014</td><td>-0.233                          </td></tr>\n",
       "\t<tr><th scope=row>RHI725214</th><td>RHI725214                        </td><td>Hispanic or Latino, percent, 2014</td><td>0.075                            </td></tr>\n",
       "\t<tr><th scope=row>HSG495213</th><td>HSG495213                                              </td><td>Median value of owner-occupied housing units, 2009-2013</td><td>-0.15                                                  </td></tr>\n",
       "\t<tr><th scope=row>SEX255214</th><td>SEX255214                    </td><td>Female persons, percent, 2014</td><td>0.13                         </td></tr>\n",
       "</tbody>\n",
       "</table>\n"
      ],
      "text/latex": [
       "\\begin{tabular}{r|lll}\n",
       "  & column\\_name & description & correlation\\_vote\\\\\n",
       "\\hline\n",
       "\tRHI225214 & RHI225214                                      & Black or African American alone, percent, 2014 & 0.693                                         \\\\\n",
       "\tRHI625214 & RHI625214                        & Two or More Races, percent, 2014 & -0.233                          \\\\\n",
       "\tRHI725214 & RHI725214                         & Hispanic or Latino, percent, 2014 & 0.075                            \\\\\n",
       "\tHSG495213 & HSG495213                                               & Median value of owner-occupied housing units, 2009-2013 & -0.15                                                  \\\\\n",
       "\tSEX255214 & SEX255214                     & Female persons, percent, 2014 & 0.13                         \\\\\n",
       "\\end{tabular}\n"
      ],
      "text/plain": [
       "          column_name                                             description\n",
       "RHI225214   RHI225214          Black or African American alone, percent, 2014\n",
       "RHI625214   RHI625214                        Two or More Races, percent, 2014\n",
       "RHI725214   RHI725214                       Hispanic or Latino, percent, 2014\n",
       "HSG495213   HSG495213 Median value of owner-occupied housing units, 2009-2013\n",
       "SEX255214   SEX255214                           Female persons, percent, 2014\n",
       "          correlation_vote\n",
       "RHI225214            0.693\n",
       "RHI625214           -0.233\n",
       "RHI725214            0.075\n",
       "HSG495213           -0.150\n",
       "SEX255214            0.130"
      ]
     },
     "metadata": {},
     "output_type": "display_data"
    }
   ],
   "source": [
    "correlation_vote = cor(vote_features, vote_target)\n",
    "correlation_vote = round(correlation_vote, 3)\n",
    "correlation_dict = cbind(dict, correlation_vote)\n",
    "correlation_dict[c(10, 14, 15, 27, 8), ]"
   ]
  },
  {
   "cell_type": "markdown",
   "metadata": {},
   "source": [
    "Here, we observe a strong positive correlation between African American population percentage and fraction of vote for Clinton. On the contray, we observe a weak negative correlation between mixed race population and the fraction of vote and between median housing value and the fraction of vote. It may also be worth noting that having a higher percentage of females in a county has a weak postive correlation with the vote. "
   ]
  },
  {
   "cell_type": "markdown",
   "metadata": {},
   "source": [
    "Plotting the largest correlation (African American population) from the table above:"
   ]
  },
  {
   "cell_type": "code",
   "execution_count": 17,
   "metadata": {
    "collapsed": false
   },
   "outputs": [
    {
     "data": {
      "image/png": "[encoded data removed]",
      "text/plain": [
       "plot without title"
      ]
     },
     "metadata": {
      "image/svg+xml": {
       "isolated": true
      }
     },
     "output_type": "display_data"
    }
   ],
   "source": [
    "qplot(y = vote_target, x = vote_features$RHI225214, color = vote_target) + geom_smooth() + xlab(\"African American Population (%)\") +\n",
    "  ylab(\"Fraction of Votes\") + ggtitle(\"Fraction of Votes vs. African American Population (%)\")"
   ]
  },
  {
   "cell_type": "markdown",
   "metadata": {},
   "source": [
    "As expected, we observe that the fraction of votes increase as the percentage of African American population increases."
   ]
  },
  {
   "cell_type": "markdown",
   "metadata": {},
   "source": [
    "Now, let's take a look at some of the variables with largest correlation coefficients:"
   ]
  },
  {
   "cell_type": "code",
   "execution_count": 18,
   "metadata": {
    "collapsed": false
   },
   "outputs": [
    {
     "data": {
      "text/html": [
       "<table>\n",
       "<thead><tr><th></th><th scope=col>column_name</th><th scope=col>description</th><th scope=col>correlation_vote</th></tr></thead>\n",
       "<tbody>\n",
       "\t<tr><th scope=row>1</th><td>RHI125214                 </td><td>White alone, percent, 2014</td><td>-0.567                    </td></tr>\n",
       "\t<tr><th scope=row>2</th><td>RHI225214                                     </td><td>Black or African American alone, percent, 2014</td><td>0.693                                         </td></tr>\n",
       "\t<tr><th scope=row>3</th><td>RHI825214                                         </td><td>White alone, not Hispanic or Latino, percent, 2014</td><td>-0.509                                            </td></tr>\n",
       "\t<tr><th scope=row>4</th><td>EDU635213                                                            </td><td>High school graduate or higher, percent of persons age 25+, 2009-2013</td><td>-0.401                                                               </td></tr>\n",
       "\t<tr><th scope=row>5</th><td>PVY020213                                      </td><td>Persons below poverty level, percent, 2009-2013</td><td>0.303                                          </td></tr>\n",
       "\t<tr><th scope=row>6</th><td>SBO315207                       </td><td>Black-owned firms, percent, 2007</td><td>0.421                           </td></tr>\n",
       "</tbody>\n",
       "</table>\n"
      ],
      "text/latex": [
       "\\begin{tabular}{r|lll}\n",
       "  & column\\_name & description & correlation\\_vote\\\\\n",
       "\\hline\n",
       "\t1 & RHI125214                  & White alone, percent, 2014 & -0.567                    \\\\\n",
       "\t2 & RHI225214                                      & Black or African American alone, percent, 2014 & 0.693                                         \\\\\n",
       "\t3 & RHI825214                                          & White alone, not Hispanic or Latino, percent, 2014 & -0.509                                            \\\\\n",
       "\t4 & EDU635213                                                             & High school graduate or higher, percent of persons age 25+, 2009-2013 & -0.401                                                               \\\\\n",
       "\t5 & PVY020213                                       & Persons below poverty level, percent, 2009-2013 & 0.303                                          \\\\\n",
       "\t6 & SBO315207                        & Black-owned firms, percent, 2007 & 0.421                           \\\\\n",
       "\\end{tabular}\n"
      ],
      "text/plain": [
       "  column_name\n",
       "1   RHI125214\n",
       "2   RHI225214\n",
       "3   RHI825214\n",
       "4   EDU635213\n",
       "5   PVY020213\n",
       "6   SBO315207\n",
       "                                                            description\n",
       "1                                            White alone, percent, 2014\n",
       "2                        Black or African American alone, percent, 2014\n",
       "3                    White alone, not Hispanic or Latino, percent, 2014\n",
       "4 High school graduate or higher, percent of persons age 25+, 2009-2013\n",
       "5                       Persons below poverty level, percent, 2009-2013\n",
       "6                                      Black-owned firms, percent, 2007\n",
       "  correlation_vote\n",
       "1           -0.567\n",
       "2            0.693\n",
       "3           -0.509\n",
       "4           -0.401\n",
       "5            0.303\n",
       "6            0.421"
      ]
     },
     "metadata": {},
     "output_type": "display_data"
    }
   ],
   "source": [
    "large_correlation = filter(correlation_dict, abs(correlation_vote) >= 0.3) #showing only the rows with correlation >= 0.3\n",
    "large_correlation"
   ]
  },
  {
   "cell_type": "markdown",
   "metadata": {},
   "source": [
    "In the table above, we see that support for Hillary is negatively correlated with percentage of white population and high school graduate or higher. On the other hand, support for Hillary is positively correlated with African American population (as we saw earlier) and poverty level. "
   ]
  },
  {
   "cell_type": "markdown",
   "metadata": {},
   "source": [
    "From the correlation coefficient table above, I'm curious about whether the positive correlation between poverty and support for Clinton is due entirely to African American population as African Americans tend to have lower income. Similarly, I wonder if the negative correlation between Clinton and high education is entirely due to African American population having lower education. To find out, I will first look at correlations among these features. "
   ]
  },
  {
   "cell_type": "code",
   "execution_count": 14,
   "metadata": {
    "collapsed": false
   },
   "outputs": [
    {
     "data": {
      "text/html": [
       "<table>\n",
       "<thead><tr><th></th><th scope=col>hillary</th><th scope=col>black</th><th scope=col>highSchoolPlus</th><th scope=col>poverty</th></tr></thead>\n",
       "<tbody>\n",
       "\t<tr><th scope=row>hillary</th><td> 1.00</td><td> 0.69</td><td>-0.40</td><td> 0.30</td></tr>\n",
       "\t<tr><th scope=row>black</th><td> 0.69</td><td> 1.00</td><td>-0.34</td><td> 0.45</td></tr>\n",
       "\t<tr><th scope=row>highSchoolPlus</th><td>-0.40</td><td>-0.34</td><td> 1.00</td><td>-0.65</td></tr>\n",
       "\t<tr><th scope=row>poverty</th><td> 0.30</td><td> 0.45</td><td>-0.65</td><td> 1.00</td></tr>\n",
       "</tbody>\n",
       "</table>\n"
      ],
      "text/latex": [
       "\\begin{tabular}{r|llll}\n",
       "  & hillary & black & highSchoolPlus & poverty\\\\\n",
       "\\hline\n",
       "\thillary &  1.00 &  0.69 & -0.40 &  0.30\\\\\n",
       "\tblack &  0.69 &  1.00 & -0.34 &  0.45\\\\\n",
       "\thighSchoolPlus & -0.40 & -0.34 &  1.00 & -0.65\\\\\n",
       "\tpoverty &  0.30 &  0.45 & -0.65 &  1.00\\\\\n",
       "\\end{tabular}\n"
      ],
      "text/markdown": [
       "1. 1\n",
       "2. 0.69\n",
       "3. -0.4\n",
       "4. 0.3\n",
       "5. 0.69\n",
       "6. 1\n",
       "7. -0.34\n",
       "8. 0.45\n",
       "9. -0.4\n",
       "10. -0.34\n",
       "11. 1\n",
       "12. -0.65\n",
       "13. 0.3\n",
       "14. 0.45\n",
       "15. -0.65\n",
       "16. 1\n",
       "\n",
       "\n"
      ],
      "text/plain": [
       "               hillary black highSchoolPlus poverty\n",
       "hillary           1.00  0.69          -0.40    0.30\n",
       "black             0.69  1.00          -0.34    0.45\n",
       "highSchoolPlus   -0.40 -0.34           1.00   -0.65\n",
       "poverty           0.30  0.45          -0.65    1.00"
      ]
     },
     "metadata": {},
     "output_type": "display_data"
    }
   ],
   "source": [
    "features2 = vote_features[c(\"RHI225214\", \"EDU635213\", \"PVY020213\")]\n",
    "bound = cbind(vote_target, features2)\n",
    "colnames(bound) = c(\"hillary\", \"black\", \"highSchoolPlus\", \"poverty\")\n",
    "round(cor(bound), 2)"
   ]
  },
  {
   "cell_type": "markdown",
   "metadata": {},
   "source": [
    "We can see from the table above that \"black\" is indeed positively correlated with \"poverty\" and negatively correlated with \"highSchoolPlus.\" What would happen if we control for African American population? Would we still find positive correlation between poverty and support for Clinton and negtavie correlation between high education and support for clinton? To find out, I will run linear regression with these features and examine coefficients."
   ]
  },
  {
   "cell_type": "code",
   "execution_count": 17,
   "metadata": {
    "collapsed": false
   },
   "outputs": [
    {
     "data": {
      "text/plain": [
       "\n",
       "Call:\n",
       "lm(formula = bound[-3])\n",
       "\n",
       "Residuals:\n",
       "     Min       1Q   Median       3Q      Max \n",
       "-0.46939 -0.07149  0.00234  0.07897  0.53638 \n",
       "\n",
       "Coefficients:\n",
       "             Estimate Std. Error t value Pr(>|t|)    \n",
       "(Intercept)  0.536009   0.002180  245.83   <2e-16 ***\n",
       "black        0.111338   0.002437   45.68   <2e-16 ***\n",
       "poverty     -0.001244   0.002437   -0.51     0.61    \n",
       "---\n",
       "Signif. codes:  0 ‘***’ 0.001 ‘**’ 0.01 ‘*’ 0.05 ‘.’ 0.1 ‘ ’ 1\n",
       "\n",
       "Residual standard error: 0.1153 on 2795 degrees of freedom\n",
       "Multiple R-squared:  0.4801,\tAdjusted R-squared:  0.4797 \n",
       "F-statistic:  1290 on 2 and 2795 DF,  p-value: < 2.2e-16\n"
      ]
     },
     "metadata": {},
     "output_type": "display_data"
    },
    {
     "data": {
      "text/plain": [
       "\n",
       "Call:\n",
       "lm(formula = bound[-4])\n",
       "\n",
       "Residuals:\n",
       "     Min       1Q   Median       3Q      Max \n",
       "-0.53367 -0.06592  0.00725  0.07738  0.57659 \n",
       "\n",
       "Coefficients:\n",
       "                Estimate Std. Error t value Pr(>|t|)    \n",
       "(Intercept)     0.536009   0.002114  253.55   <2e-16 ***\n",
       "black           0.100608   0.002247   44.77   <2e-16 ***\n",
       "highSchoolPlus -0.030038   0.002247  -13.37   <2e-16 ***\n",
       "---\n",
       "Signif. codes:  0 ‘***’ 0.001 ‘**’ 0.01 ‘*’ 0.05 ‘.’ 0.1 ‘ ’ 1\n",
       "\n",
       "Residual standard error: 0.1118 on 2795 degrees of freedom\n",
       "Multiple R-squared:  0.5113,\tAdjusted R-squared:  0.5109 \n",
       "F-statistic:  1462 on 2 and 2795 DF,  p-value: < 2.2e-16\n"
      ]
     },
     "metadata": {},
     "output_type": "display_data"
    }
   ],
   "source": [
    "summary(lm(bound[-3])) # using just \"black\" and \"poverty\" as predictors\n",
    "summary(lm(bound[-4])) # using just \"black\" and \"highSchoolPlus\" as predictors"
   ]
  },
  {
   "cell_type": "markdown",
   "metadata": {},
   "source": [
    "After examining each coefficient, it seems that after controlling for African American Population, poverty level does not seem to affect support for Clinton (coefficient for poverty did not reach statistical significance). From this, it seems reasonable to conclude that positive correlation between poverty and support for Clinton may be due just to African American population. On the contrary, we still see negative correlation between high education and support for Clinton after controlling for African American population."
   ]
  },
  {
   "cell_type": "markdown",
   "metadata": {},
   "source": [
    "# Conclusion"
   ]
  },
  {
   "cell_type": "markdown",
   "metadata": {},
   "source": [
    "- After trying out three different models (elastic net regression, random forest, gradient boosted trees), I found that *gradient boosted trees* perform the best in predicting support for Clinton with RMSE of 0.08711292 and R-squared of 0.7038636. \n",
    "- It seems that *racial information* about each county is the most important predictor, especially that of *African American population*. \n",
    "- There's also a small negative correlation between high education (high school or above) and support for Clinton."
   ]
  }
 ],
 "metadata": {
  "kernelspec": {
   "display_name": "R",
   "language": "R",
   "name": "ir"
  },
  "language_info": {
   "codemirror_mode": "r",
   "file_extension": ".r",
   "mimetype": "text/x-r-source",
   "name": "R",
   "pygments_lexer": "r",
   "version": "3.3.1"
  }
 },
 "nbformat": 4,
 "nbformat_minor": 0
}
